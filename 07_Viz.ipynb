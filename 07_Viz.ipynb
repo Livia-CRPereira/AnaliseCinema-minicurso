{
  "cells": [
    {
      "cell_type": "markdown",
      "metadata": {
        "id": "3nsgCk3B2PAN"
      },
      "source": [
        "---\n",
        "layout: page\n",
        "title: Visualização de Dados\n",
        "nav_order: 7\n",
        "---\n",
        "[<img src=\"https://raw.githubusercontent.com/flaviovdf/fcd/master/assets/colab_favicon_small.png\" style=\"float: right;\">](https://colab.research.google.com/github/flaviovdf/fcd/blob/master/_lessons/06-Viz.ipynb)\n",
        "\n",
        "# Tópico 7 – DataViz: Visualizando Dados 📈\n",
        "{: .no_toc .mb-2 }\n",
        "\n",
        "Um pouco de como representar dados de forma visual!\n",
        "{: .fs-6 .fw-300 }\n",
        "\n",
        "{: .no_toc .text-delta }\n",
        "Resultados Esperados\n",
        "\n",
        "1. Junto com a aula passada, ferramentas simples para exploração de dados\n",
        "1. Aprender a base de pandas para realizar um plot simples\n",
        "1. Aprender conceitos básicos de visualização dados\n",
        "\n",
        "{: .no_toc .text-delta }\n",
        "Material Adaptado do [DSC10 (UCSD)](https://dsc10.com/)"
      ]
    },
    {
      "cell_type": "code",
      "execution_count": null,
      "metadata": {
        "execution": {
          "iopub.execute_input": "2024-04-09T15:24:02.939599Z",
          "iopub.status.busy": "2024-04-09T15:24:02.937900Z",
          "iopub.status.idle": "2024-04-09T15:24:02.946781Z",
          "shell.execute_reply": "2024-04-09T15:24:02.944901Z"
        },
        "id": "mvCjVvXE2PAb"
      },
      "outputs": [],
      "source": [
        "# Descomente e execute as linhas a seguir para usar o BabyPandas e o PandasTutor\n",
        "# (faça isso apenas se não tiver instalado ainda)\n",
        "# ! pip install babypandas"
      ]
    },
    {
      "cell_type": "code",
      "execution_count": null,
      "metadata": {
        "execution": {
          "iopub.execute_input": "2024-04-09T15:24:02.953298Z",
          "iopub.status.busy": "2024-04-09T15:24:02.952749Z",
          "iopub.status.idle": "2024-04-09T15:24:03.576901Z",
          "shell.execute_reply": "2024-04-09T15:24:03.576227Z"
        },
        "id": "-USOlFiY2PAe"
      },
      "outputs": [],
      "source": [
        "import numpy as np\n",
        "import babypandas as bpd\n",
        "\n",
        "import matplotlib.pyplot as plt\n",
        "plt.style.use('ggplot')\n",
        "\n",
        "from IPython.display import HTML, display, IFrame"
      ]
    },
    {
      "cell_type": "markdown",
      "metadata": {
        "id": "Zmy7rdyG2PAe"
      },
      "source": [
        "### Além: atalhos de teclado\n",
        "\n",
        "Existem vários atalhos de teclado integrados aos Jupyter Notebooks projetados para ajudar você a economizar tempo. Para vê-los, clique no botão do teclado na barra de ferramentas acima ou pressione a tecla H do teclado (desde que você não esteja editando ativamente uma célula).\n",
        "\n",
        "Atalhos particularmente úteis:\n",
        "\n",
        "| Ação | Atalho de teclado |\n",
        "| --- | --- |\n",
        "| Executar célula + pular para a próxima célula | MUDANÇA + ENTER |\n",
        "| Salve o caderno | CTRL/CMD + S |\n",
        "| Criar nova célula acima/abaixo | A/B |\n",
        "| Excluir célula | DD |"
      ]
    },
    {
      "cell_type": "markdown",
      "metadata": {
        "id": "Ol_TAea12PAf"
      },
      "source": [
        "### Agenda\n",
        "\n",
        "- Por que visualizar?\n",
        "- Terminologia.\n",
        "- Gráficos de dispersão.\n",
        "- Gráficos de linha.\n",
        "- Gráficos de barra."
      ]
    },
    {
      "cell_type": "markdown",
      "metadata": {
        "id": "l8aRg3VU2PAg"
      },
      "source": [
        "## Por que visualizar?"
      ]
    },
    {
      "cell_type": "markdown",
      "metadata": {
        "id": "T9tbfy7-2PAg"
      },
      "source": [
        "### Marcha de Napoleão"
      ]
    },
    {
      "cell_type": "markdown",
      "metadata": {
        "id": "zCR69trq2PAh"
      },
      "source": [
        "![](https://raw.githubusercontent.com/flaviovdf/fcd/master/assets/07-DataViz/images/minard.jpg)"
      ]
    },
    {
      "cell_type": "markdown",
      "metadata": {
        "id": "lFaZwmJ_2PAj"
      },
      "source": [
        "### Por que visualizar?"
      ]
    },
    {
      "cell_type": "markdown",
      "metadata": {
        "id": "oYeYCGBD2PAj"
      },
      "source": [
        "- Os computadores são melhores que os humanos para processar números, mas os humanos são melhores para identificar padrões visuais."
      ]
    },
    {
      "cell_type": "markdown",
      "metadata": {
        "id": "ay704dSL2PAk"
      },
      "source": [
        "- As visualizações permitem-nos compreender rapidamente muitos dados – tornam mais fácil identificar tendências e comunicar os nossos resultados a outras pessoas."
      ]
    },
    {
      "cell_type": "markdown",
      "metadata": {
        "id": "uN5VAIVq2PAn"
      },
      "source": [
        "- Existem vários tipos de visualizações; nesta aula, veremos gráficos de dispersão, gráficos de linhas, gráficos de barras e histogramas, mas existem muitos outros.\n",
        "- A escolha certa depende do tipo de dados."
      ]
    },
    {
      "cell_type": "markdown",
      "metadata": {
        "id": "sJVNbuGb2PAo"
      },
      "source": [
        "## Terminologia"
      ]
    },
    {
      "cell_type": "markdown",
      "metadata": {
        "id": "kWwvWbbo2PAq"
      },
      "source": [
        "### Indivíduos e variáveis\n",
        "\n",
        "<center><img src='https://raw.githubusercontent.com/flaviovdf/fcd/master/assets/07-DataViz/images/ind-var.png' largura=90%/></center>"
      ]
    },
    {
      "cell_type": "markdown",
      "metadata": {
        "id": "JTlwgz6e2PAr"
      },
      "source": [
        "- <span style=\"color:#6d9eeb\"><b>Indivíduo (linha):</b></span> Pessoa/lugar/coisa para a qual os dados são registrados. Também chamada de **observação**."
      ]
    },
    {
      "cell_type": "markdown",
      "metadata": {
        "id": "R7fQ7QwI2PAr"
      },
      "source": [
        "- <span style=\"color:#ff9900\"><b>Variável (coluna):</b></span> Algo que é registrado para cada indivíduo. Também chamado de **recurso**."
      ]
    },
    {
      "cell_type": "markdown",
      "metadata": {
        "id": "qljM2Puc2PAr"
      },
      "source": [
        "### Tipos de variáveis\n",
        "\n",
        "Existem dois tipos principais de variáveis:\n",
        "\n",
        "- **Numérico**: Faz sentido fazer aritmética com os valores.\n",
        "- **Categórico**: Os valores se enquadram em categorias, que podem ou não ter alguma _ordem_ para eles."
      ]
    },
    {
      "cell_type": "markdown",
      "metadata": {
        "id": "cYTNbdIz2PAs"
      },
      "source": [
        "### Exemplos de variáveis ​​numéricas"
      ]
    },
    {
      "cell_type": "markdown",
      "metadata": {
        "id": "k7UVEhr92PAs"
      },
      "source": [
        "- Salários dos jogadores da NBA 🏀.\n",
        "- Individual: um jogador da NBA.\n",
        "- Variável: seu salário."
      ]
    },
    {
      "cell_type": "markdown",
      "metadata": {
        "id": "U8hfWJat2PAs"
      },
      "source": [
        "- Ganhos brutos do filme 💰.\n",
        "- Individual: um filme.\n",
        "- Variável: seu rendimento bruto."
      ]
    },
    {
      "cell_type": "markdown",
      "metadata": {
        "id": "QUNdJZu22PAt"
      },
      "source": [
        "- Doses de reforço administradas por dia 💉.\n",
        "- Individual: data.\n",
        "- Variável: número de doses de reforço administradas naquela data."
      ]
    },
    {
      "cell_type": "markdown",
      "metadata": {
        "id": "1oJEET_C2PAt"
      },
      "source": [
        "### Exemplos de variáveis ​​​​categóricas"
      ]
    },
    {
      "cell_type": "markdown",
      "metadata": {
        "id": "0ju8enjb2PAt"
      },
      "source": [
        "- Gêneros de filmes 🎬.\n",
        "- Individual: um filme.\n",
        "- Variável: seu gênero."
      ]
    },
    {
      "cell_type": "markdown",
      "metadata": {
        "id": "IkgvBcZL2PAt"
      },
      "source": [
        "- CEPs 🏠.\n",
        "- Pessoa física: residente nos EUA.\n",
        "- Variável: CEP.\n",
        "- Apesar de parecerem números, os CEPs são categóricos (a aritmética não faz sentido)."
      ]
    },
    {
      "cell_type": "markdown",
      "metadata": {
        "id": "xv2F6hQz2PAt"
      },
      "source": [
        "- Nível de experiência anterior em programação para alunos do DSC 10 🧑‍🎓.\n",
        "- Individual: aluno do DSC 10.\n",
        "- Variável: seu nível de experiência anterior em programação, por ex. nenhum, baixo, médio ou alto.\n",
        "- Existe uma _ordem_ para essas categorias!"
      ]
    },
    {
      "cell_type": "markdown",
      "metadata": {
        "id": "UOAQqg052PAt"
      },
      "source": [
        "### Verificação de conceito ✅\n",
        "\n",
        "Qual destas **não** é uma variável numérica?\n",
        "\n",
        "A. Economia de combustível em milhas por galão.\n",
        "\n",
        "B. Número de trimestres na UCSD.\n",
        "\n",
        "C. Faculdade na UCSD (sexto, sétimo, etc).\n",
        "\n",
        "D. Número da conta bancária.\n",
        "\n",
        "E. Mais de uma destas não são variáveis ​​numéricas."
      ]
    },
    {
      "cell_type": "markdown",
      "metadata": {
        "id": "bx3QdaPp2PAu"
      },
      "source": [
        "### Tipos de visualizações\n",
        "\n",
        "O tipo de visualização que criamos depende dos tipos de variáveis ​​que estamos visualizando.\n",
        "\n",
        "- **Gráfico de dispersão**: numérico versus numérico.\n",
        "- **Gráfico de linhas**: numérico sequencial (tempo) vs.\n",
        "- **Gráfico de barras**: categórico vs. numérico.\n",
        "- **Histograma**: numérico.\n",
        "- Cobriremos na próxima vez.\n",
        "\n",
        "**Observação:** Podemos trocar as palavras \"plot\", \"chart\" e \"graph\"; todos eles significam a mesma coisa."
      ]
    },
    {
      "cell_type": "markdown",
      "metadata": {
        "id": "4rRQFeLH2PAu"
      },
      "source": [
        "## Gráficos de dispersão"
      ]
    },
    {
      "cell_type": "markdown",
      "metadata": {
        "id": "kcurG4oY2PAu"
      },
      "source": [
        "### Conjunto de dados dos 50 atores de maior bilheteria"
      ]
    },
    {
      "cell_type": "markdown",
      "metadata": {
        "id": "FD-2T3H52PAu"
      },
      "source": [
        "|Coluna |Conteúdo|\n",
        "|----------|------------|\n",
        "`'Ator'`|Nome do ator\n",
        "`'Total Bruto'`| Receita total bruta de bilheteria interna, em milhões de dólares, de todos os filmes do ator\n",
        "`'Número de filmes'`| O número de filmes em que o ator esteve\n",
        "`'Média por Filme'`| Total bruto dividido pelo número de filmes\n",
        "`'Filme #1'`| O filme de maior bilheteria em que o ator já esteve\n",
        "`'Bruto'`| Receita bruta de bilheteria interna, em milhões de dólares, do filme número 1 do ator"
      ]
    },
    {
      "cell_type": "code",
      "execution_count": null,
      "metadata": {
        "execution": {
          "iopub.execute_input": "2024-04-09T15:24:03.580950Z",
          "iopub.status.busy": "2024-04-09T15:24:03.580679Z",
          "iopub.status.idle": "2024-04-09T15:24:03.798490Z",
          "shell.execute_reply": "2024-04-09T15:24:03.797730Z"
        },
        "id": "3jy97xWZ2PAu",
        "outputId": "90fe12f2-e7ba-4699-f6f0-edec2a958ab9"
      },
      "outputs": [
        {
          "data": {
            "text/html": [
              "<div>\n",
              "<style scoped>\n",
              "    .dataframe tbody tr th:only-of-type {\n",
              "        vertical-align: middle;\n",
              "    }\n",
              "\n",
              "    .dataframe tbody tr th {\n",
              "        vertical-align: top;\n",
              "    }\n",
              "\n",
              "    .dataframe thead th {\n",
              "        text-align: right;\n",
              "    }\n",
              "</style>\n",
              "<table border=\"1\" class=\"dataframe\">\n",
              "  <thead>\n",
              "    <tr style=\"text-align: right;\">\n",
              "      <th></th>\n",
              "      <th>Total Gross</th>\n",
              "      <th>Number of Movies</th>\n",
              "      <th>Average per Movie</th>\n",
              "      <th>#1 Movie</th>\n",
              "      <th>Gross</th>\n",
              "    </tr>\n",
              "    <tr>\n",
              "      <th>Actor</th>\n",
              "      <th></th>\n",
              "      <th></th>\n",
              "      <th></th>\n",
              "      <th></th>\n",
              "      <th></th>\n",
              "    </tr>\n",
              "  </thead>\n",
              "  <tbody>\n",
              "    <tr>\n",
              "      <th>Harrison Ford</th>\n",
              "      <td>4871.7</td>\n",
              "      <td>41</td>\n",
              "      <td>118.8</td>\n",
              "      <td>Star Wars: The Force Awakens</td>\n",
              "      <td>936.7</td>\n",
              "    </tr>\n",
              "    <tr>\n",
              "      <th>Samuel L. Jackson</th>\n",
              "      <td>4772.8</td>\n",
              "      <td>69</td>\n",
              "      <td>69.2</td>\n",
              "      <td>The Avengers</td>\n",
              "      <td>623.4</td>\n",
              "    </tr>\n",
              "    <tr>\n",
              "      <th>Morgan Freeman</th>\n",
              "      <td>4468.3</td>\n",
              "      <td>61</td>\n",
              "      <td>73.3</td>\n",
              "      <td>The Dark Knight</td>\n",
              "      <td>534.9</td>\n",
              "    </tr>\n",
              "    <tr>\n",
              "      <th>Tom Hanks</th>\n",
              "      <td>4340.8</td>\n",
              "      <td>44</td>\n",
              "      <td>98.7</td>\n",
              "      <td>Toy Story 3</td>\n",
              "      <td>415.0</td>\n",
              "    </tr>\n",
              "    <tr>\n",
              "      <th>Robert Downey, Jr.</th>\n",
              "      <td>3947.3</td>\n",
              "      <td>53</td>\n",
              "      <td>74.5</td>\n",
              "      <td>The Avengers</td>\n",
              "      <td>623.4</td>\n",
              "    </tr>\n",
              "    <tr>\n",
              "      <th>...</th>\n",
              "      <td>...</td>\n",
              "      <td>...</td>\n",
              "      <td>...</td>\n",
              "      <td>...</td>\n",
              "      <td>...</td>\n",
              "    </tr>\n",
              "    <tr>\n",
              "      <th>Jeremy Renner</th>\n",
              "      <td>2500.3</td>\n",
              "      <td>21</td>\n",
              "      <td>119.1</td>\n",
              "      <td>The Avengers</td>\n",
              "      <td>623.4</td>\n",
              "    </tr>\n",
              "    <tr>\n",
              "      <th>Philip Seymour Hoffman</th>\n",
              "      <td>2463.7</td>\n",
              "      <td>40</td>\n",
              "      <td>61.6</td>\n",
              "      <td>Catching Fire</td>\n",
              "      <td>424.7</td>\n",
              "    </tr>\n",
              "    <tr>\n",
              "      <th>Sandra Bullock</th>\n",
              "      <td>2462.6</td>\n",
              "      <td>35</td>\n",
              "      <td>70.4</td>\n",
              "      <td>Minions</td>\n",
              "      <td>336.0</td>\n",
              "    </tr>\n",
              "    <tr>\n",
              "      <th>Chris Evans</th>\n",
              "      <td>2457.8</td>\n",
              "      <td>23</td>\n",
              "      <td>106.9</td>\n",
              "      <td>The Avengers</td>\n",
              "      <td>623.4</td>\n",
              "    </tr>\n",
              "    <tr>\n",
              "      <th>Anne Hathaway</th>\n",
              "      <td>2416.5</td>\n",
              "      <td>25</td>\n",
              "      <td>96.7</td>\n",
              "      <td>The Dark Knight Rises</td>\n",
              "      <td>448.1</td>\n",
              "    </tr>\n",
              "  </tbody>\n",
              "</table>\n",
              "<p>50 rows × 5 columns</p>\n",
              "</div>"
            ],
            "text/plain": [
              "                        Total Gross  Number of Movies  Average per Movie  \\\n",
              "Actor                                                                      \n",
              "Harrison Ford                4871.7                41              118.8   \n",
              "Samuel L. Jackson            4772.8                69               69.2   \n",
              "Morgan Freeman               4468.3                61               73.3   \n",
              "Tom Hanks                    4340.8                44               98.7   \n",
              "Robert Downey, Jr.           3947.3                53               74.5   \n",
              "...                             ...               ...                ...   \n",
              "Jeremy Renner                2500.3                21              119.1   \n",
              "Philip Seymour Hoffman       2463.7                40               61.6   \n",
              "Sandra Bullock               2462.6                35               70.4   \n",
              "Chris Evans                  2457.8                23              106.9   \n",
              "Anne Hathaway                2416.5                25               96.7   \n",
              "\n",
              "                                            #1 Movie  Gross  \n",
              "Actor                                                        \n",
              "Harrison Ford           Star Wars: The Force Awakens  936.7  \n",
              "Samuel L. Jackson                       The Avengers  623.4  \n",
              "Morgan Freeman                       The Dark Knight  534.9  \n",
              "Tom Hanks                                Toy Story 3  415.0  \n",
              "Robert Downey, Jr.                      The Avengers  623.4  \n",
              "...                                              ...    ...  \n",
              "Jeremy Renner                           The Avengers  623.4  \n",
              "Philip Seymour Hoffman                 Catching Fire  424.7  \n",
              "Sandra Bullock                               Minions  336.0  \n",
              "Chris Evans                             The Avengers  623.4  \n",
              "Anne Hathaway                  The Dark Knight Rises  448.1  \n",
              "\n",
              "[50 rows x 5 columns]"
            ]
          },
          "execution_count": 3,
          "metadata": {},
          "output_type": "execute_result"
        }
      ],
      "source": [
        "actors = bpd.read_csv('https://raw.githubusercontent.com/flaviovdf/fcd/master/assets/07-DataViz/data/actors.csv').set_index('Actor')\n",
        "actors"
      ]
    },
    {
      "cell_type": "markdown",
      "metadata": {
        "id": "WkvBo51I2PAw"
      },
      "source": [
        "### Gráficos de dispersão\n",
        "\n",
        "Qual é a relação entre `'Número de Filmes'` e `'Total Bruto'`?"
      ]
    },
    {
      "cell_type": "code",
      "execution_count": null,
      "metadata": {
        "execution": {
          "iopub.execute_input": "2024-04-09T15:24:03.836216Z",
          "iopub.status.busy": "2024-04-09T15:24:03.836007Z",
          "iopub.status.idle": "2024-04-09T15:24:04.057894Z",
          "shell.execute_reply": "2024-04-09T15:24:04.057272Z"
        },
        "id": "VO3k7-7c2PAw",
        "outputId": "47de1cf5-6412-4e57-fedf-771097679339"
      },
      "outputs": [
        {
          "data": {
            "image/png": "[encoded data removed]",
            "text/plain": [
              "<Figure size 640x480 with 1 Axes>"
            ]
          },
          "metadata": {},
          "output_type": "display_data"
        }
      ],
      "source": [
        "actors.plot(kind='scatter', x='Number of Movies', y='Total Gross');"
      ]
    },
    {
      "cell_type": "markdown",
      "metadata": {
        "id": "9E-3q96m2PAx"
      },
      "source": [
        "### Gráficos de dispersão\n",
        "\n",
        "- Os gráficos de dispersão visualizam a relação entre duas variáveis ​​numéricas.\n",
        "- Para criar um a partir de um DataFrame `df`, use\n",
        "```\n",
        "df.plot(\n",
        "    kind='scatter',\n",
        "    x=x_column_for_horizontal,\n",
        "    y=y_column_for_vertical\n",
        ")\n",
        "```\n",
        "- O gráfico de dispersão resultante tem um ponto por linha de `df`.\n",
        "- Se você colocar um ponto e vírgula após uma chamada para `.plot`, isso ocultará a saída de texto estranha exibida."
      ]
    },
    {
      "cell_type": "markdown",
      "metadata": {
        "id": "VMdFjOtj2PAx"
      },
      "source": [
        "### Gráficos de dispersão\n",
        "\n",
        "Qual é a relação entre `'Número de Filmes'` e `'Média por Filme'`?"
      ]
    },
    {
      "cell_type": "code",
      "execution_count": null,
      "metadata": {
        "execution": {
          "iopub.execute_input": "2024-04-09T15:24:04.060442Z",
          "iopub.status.busy": "2024-04-09T15:24:04.060226Z",
          "iopub.status.idle": "2024-04-09T15:24:04.254909Z",
          "shell.execute_reply": "2024-04-09T15:24:04.254024Z"
        },
        "id": "PhXHYLru2PAx",
        "outputId": "86f54e28-269e-4c99-ec51-31e639dbc66f"
      },
      "outputs": [
        {
          "data": {
            "image/png": "[encoded data removed]",
            "text/plain": [
              "<Figure size 640x480 with 1 Axes>"
            ]
          },
          "metadata": {},
          "output_type": "display_data"
        }
      ],
      "source": [
        "actors.plot(kind='scatter', x='Number of Movies', y='Average per Movie');"
      ]
    },
    {
      "cell_type": "markdown",
      "metadata": {
        "id": "PoJ8pUIF2PAy"
      },
      "source": [
        "Observe que no gráfico acima, há uma associação _negativa_ e um valor discrepante."
      ]
    },
    {
      "cell_type": "markdown",
      "metadata": {
        "id": "VwskBDD62PAy"
      },
      "source": [
        "### Quem esteve em 60 ou mais filmes?"
      ]
    },
    {
      "cell_type": "code",
      "execution_count": null,
      "metadata": {
        "execution": {
          "iopub.execute_input": "2024-04-09T15:24:04.257422Z",
          "iopub.status.busy": "2024-04-09T15:24:04.257161Z",
          "iopub.status.idle": "2024-04-09T15:24:04.266316Z",
          "shell.execute_reply": "2024-04-09T15:24:04.265663Z"
        },
        "id": "xZW5dvov2PAy",
        "outputId": "591bdd0e-2548-4dc9-8549-92fd69176622"
      },
      "outputs": [
        {
          "data": {
            "text/html": [
              "<div>\n",
              "<style scoped>\n",
              "    .dataframe tbody tr th:only-of-type {\n",
              "        vertical-align: middle;\n",
              "    }\n",
              "\n",
              "    .dataframe tbody tr th {\n",
              "        vertical-align: top;\n",
              "    }\n",
              "\n",
              "    .dataframe thead th {\n",
              "        text-align: right;\n",
              "    }\n",
              "</style>\n",
              "<table border=\"1\" class=\"dataframe\">\n",
              "  <thead>\n",
              "    <tr style=\"text-align: right;\">\n",
              "      <th></th>\n",
              "      <th>Total Gross</th>\n",
              "      <th>Number of Movies</th>\n",
              "      <th>Average per Movie</th>\n",
              "      <th>#1 Movie</th>\n",
              "      <th>Gross</th>\n",
              "    </tr>\n",
              "    <tr>\n",
              "      <th>Actor</th>\n",
              "      <th></th>\n",
              "      <th></th>\n",
              "      <th></th>\n",
              "      <th></th>\n",
              "      <th></th>\n",
              "    </tr>\n",
              "  </thead>\n",
              "  <tbody>\n",
              "    <tr>\n",
              "      <th>Samuel L. Jackson</th>\n",
              "      <td>4772.8</td>\n",
              "      <td>69</td>\n",
              "      <td>69.2</td>\n",
              "      <td>The Avengers</td>\n",
              "      <td>623.4</td>\n",
              "    </tr>\n",
              "    <tr>\n",
              "      <th>Morgan Freeman</th>\n",
              "      <td>4468.3</td>\n",
              "      <td>61</td>\n",
              "      <td>73.3</td>\n",
              "      <td>The Dark Knight</td>\n",
              "      <td>534.9</td>\n",
              "    </tr>\n",
              "    <tr>\n",
              "      <th>Bruce Willis</th>\n",
              "      <td>3189.4</td>\n",
              "      <td>60</td>\n",
              "      <td>53.2</td>\n",
              "      <td>Sixth Sense</td>\n",
              "      <td>293.5</td>\n",
              "    </tr>\n",
              "    <tr>\n",
              "      <th>Robert DeNiro</th>\n",
              "      <td>3081.3</td>\n",
              "      <td>79</td>\n",
              "      <td>39.0</td>\n",
              "      <td>Meet the Fockers</td>\n",
              "      <td>279.3</td>\n",
              "    </tr>\n",
              "    <tr>\n",
              "      <th>Liam Neeson</th>\n",
              "      <td>2942.7</td>\n",
              "      <td>63</td>\n",
              "      <td>46.7</td>\n",
              "      <td>The Phantom Menace</td>\n",
              "      <td>474.5</td>\n",
              "    </tr>\n",
              "  </tbody>\n",
              "</table>\n",
              "</div>"
            ],
            "text/plain": [
              "                   Total Gross  Number of Movies  Average per Movie  \\\n",
              "Actor                                                                 \n",
              "Samuel L. Jackson       4772.8                69               69.2   \n",
              "Morgan Freeman          4468.3                61               73.3   \n",
              "Bruce Willis            3189.4                60               53.2   \n",
              "Robert DeNiro           3081.3                79               39.0   \n",
              "Liam Neeson             2942.7                63               46.7   \n",
              "\n",
              "                             #1 Movie  Gross  \n",
              "Actor                                         \n",
              "Samuel L. Jackson        The Avengers  623.4  \n",
              "Morgan Freeman        The Dark Knight  534.9  \n",
              "Bruce Willis              Sixth Sense  293.5  \n",
              "Robert DeNiro        Meet the Fockers  279.3  \n",
              "Liam Neeson        The Phantom Menace  474.5  "
            ]
          },
          "execution_count": 6,
          "metadata": {},
          "output_type": "execute_result"
        }
      ],
      "source": [
        "actors[actors.get('Number of Movies') >= 60]"
      ]
    },
    {
      "cell_type": "markdown",
      "metadata": {
        "id": "XVoFmF402PA-"
      },
      "source": [
        "### Quem é o estranho?\n",
        "\n",
        "Quem quer que sejam, fizeram poucos filmes de alta bilheteria."
      ]
    },
    {
      "cell_type": "code",
      "execution_count": null,
      "metadata": {
        "execution": {
          "iopub.execute_input": "2024-04-09T15:24:04.269490Z",
          "iopub.status.busy": "2024-04-09T15:24:04.269229Z",
          "iopub.status.idle": "2024-04-09T15:24:04.278283Z",
          "shell.execute_reply": "2024-04-09T15:24:04.277627Z"
        },
        "id": "R1u8-Q-v2PA-",
        "outputId": "28f38f5b-6575-44f4-84b7-8194505cd1c9"
      },
      "outputs": [
        {
          "data": {
            "text/html": [
              "<div>\n",
              "<style scoped>\n",
              "    .dataframe tbody tr th:only-of-type {\n",
              "        vertical-align: middle;\n",
              "    }\n",
              "\n",
              "    .dataframe tbody tr th {\n",
              "        vertical-align: top;\n",
              "    }\n",
              "\n",
              "    .dataframe thead th {\n",
              "        text-align: right;\n",
              "    }\n",
              "</style>\n",
              "<table border=\"1\" class=\"dataframe\">\n",
              "  <thead>\n",
              "    <tr style=\"text-align: right;\">\n",
              "      <th></th>\n",
              "      <th>Total Gross</th>\n",
              "      <th>Number of Movies</th>\n",
              "      <th>Average per Movie</th>\n",
              "      <th>#1 Movie</th>\n",
              "      <th>Gross</th>\n",
              "    </tr>\n",
              "    <tr>\n",
              "      <th>Actor</th>\n",
              "      <th></th>\n",
              "      <th></th>\n",
              "      <th></th>\n",
              "      <th></th>\n",
              "      <th></th>\n",
              "    </tr>\n",
              "  </thead>\n",
              "  <tbody>\n",
              "    <tr>\n",
              "      <th>Anthony Daniels</th>\n",
              "      <td>3162.9</td>\n",
              "      <td>7</td>\n",
              "      <td>451.8</td>\n",
              "      <td>Star Wars: The Force Awakens</td>\n",
              "      <td>936.7</td>\n",
              "    </tr>\n",
              "  </tbody>\n",
              "</table>\n",
              "</div>"
            ],
            "text/plain": [
              "                 Total Gross  Number of Movies  Average per Movie  \\\n",
              "Actor                                                               \n",
              "Anthony Daniels       3162.9                 7              451.8   \n",
              "\n",
              "                                     #1 Movie  Gross  \n",
              "Actor                                                 \n",
              "Anthony Daniels  Star Wars: The Force Awakens  936.7  "
            ]
          },
          "execution_count": 7,
          "metadata": {},
          "output_type": "execute_result"
        }
      ],
      "source": [
        "actors[actors.get('Number of Movies') < 10]"
      ]
    },
    {
      "cell_type": "markdown",
      "metadata": {
        "id": "4nuMtTRl2PA-"
      },
      "source": [
        "### Anthony Daniels\n",
        "\n",
        "<center><img src='https://raw.githubusercontent.com/flaviovdf/fcd/master/assets/07-DataViz/images/c3po.png' width=200></center>"
      ]
    },
    {
      "cell_type": "markdown",
      "metadata": {
        "id": "KHz0ZVN12PA_"
      },
      "source": [
        "## Gráficos de linha 📉"
      ]
    },
    {
      "cell_type": "markdown",
      "metadata": {
        "id": "0zZpI9xB2PA_"
      },
      "source": [
        "### Conjunto de dados agregando filmes por ano"
      ]
    },
    {
      "cell_type": "markdown",
      "metadata": {
        "id": "oZT2Wz1T2PA_"
      },
      "source": [
        "|Coluna| Conteúdo|\n",
        "|------|-----------|\n",
        "`'Ano'`| Ano\n",
        "`'Total Bruto em Bilhões'`| Total bruto de bilheteria doméstica, em bilhões de dólares, de todos os filmes lançados\n",
        "`'Número de filmes'`| Número de filmes lançados\n",
        "`'Filme #1'`| Filme de maior bilheteria"
      ]
    },
    {
      "cell_type": "code",
      "execution_count": null,
      "metadata": {
        "execution": {
          "iopub.execute_input": "2024-04-09T15:24:04.281043Z",
          "iopub.status.busy": "2024-04-09T15:24:04.280776Z",
          "iopub.status.idle": "2024-04-09T15:24:04.454992Z",
          "shell.execute_reply": "2024-04-09T15:24:04.453160Z"
        },
        "id": "BjrlZMQp2PA_",
        "outputId": "dabfcd40-3a46-4d54-9d11-a5252430c2e0"
      },
      "outputs": [
        {
          "data": {
            "text/html": [
              "<div>\n",
              "<style scoped>\n",
              "    .dataframe tbody tr th:only-of-type {\n",
              "        vertical-align: middle;\n",
              "    }\n",
              "\n",
              "    .dataframe tbody tr th {\n",
              "        vertical-align: top;\n",
              "    }\n",
              "\n",
              "    .dataframe thead th {\n",
              "        text-align: right;\n",
              "    }\n",
              "</style>\n",
              "<table border=\"1\" class=\"dataframe\">\n",
              "  <thead>\n",
              "    <tr style=\"text-align: right;\">\n",
              "      <th></th>\n",
              "      <th>Total Gross in Billions</th>\n",
              "      <th>Number of Movies</th>\n",
              "      <th>#1 Movie</th>\n",
              "    </tr>\n",
              "    <tr>\n",
              "      <th>Year</th>\n",
              "      <th></th>\n",
              "      <th></th>\n",
              "      <th></th>\n",
              "    </tr>\n",
              "  </thead>\n",
              "  <tbody>\n",
              "    <tr>\n",
              "      <th>2022</th>\n",
              "      <td>5.64</td>\n",
              "      <td>380</td>\n",
              "      <td>Top Gun: Maverick</td>\n",
              "    </tr>\n",
              "    <tr>\n",
              "      <th>2021</th>\n",
              "      <td>4.48</td>\n",
              "      <td>439</td>\n",
              "      <td>Spider-Man: No Way Home</td>\n",
              "    </tr>\n",
              "    <tr>\n",
              "      <th>2020</th>\n",
              "      <td>2.11</td>\n",
              "      <td>456</td>\n",
              "      <td>Bad Boys for Life</td>\n",
              "    </tr>\n",
              "    <tr>\n",
              "      <th>2019</th>\n",
              "      <td>11.36</td>\n",
              "      <td>910</td>\n",
              "      <td>Avengers: Endgame</td>\n",
              "    </tr>\n",
              "    <tr>\n",
              "      <th>2018</th>\n",
              "      <td>11.89</td>\n",
              "      <td>993</td>\n",
              "      <td>Black Panther</td>\n",
              "    </tr>\n",
              "    <tr>\n",
              "      <th>...</th>\n",
              "      <td>...</td>\n",
              "      <td>...</td>\n",
              "      <td>...</td>\n",
              "    </tr>\n",
              "    <tr>\n",
              "      <th>1981</th>\n",
              "      <td>0.90</td>\n",
              "      <td>56</td>\n",
              "      <td>Superman II</td>\n",
              "    </tr>\n",
              "    <tr>\n",
              "      <th>1980</th>\n",
              "      <td>1.64</td>\n",
              "      <td>68</td>\n",
              "      <td>Star Wars: Episode V - The Empire Strikes Back</td>\n",
              "    </tr>\n",
              "    <tr>\n",
              "      <th>1979</th>\n",
              "      <td>1.23</td>\n",
              "      <td>40</td>\n",
              "      <td>Superman</td>\n",
              "    </tr>\n",
              "    <tr>\n",
              "      <th>1978</th>\n",
              "      <td>0.83</td>\n",
              "      <td>13</td>\n",
              "      <td>Grease</td>\n",
              "    </tr>\n",
              "    <tr>\n",
              "      <th>1977</th>\n",
              "      <td>0.44</td>\n",
              "      <td>9</td>\n",
              "      <td>Star Wars: Episode IV - A New Hope</td>\n",
              "    </tr>\n",
              "  </tbody>\n",
              "</table>\n",
              "<p>46 rows × 3 columns</p>\n",
              "</div>"
            ],
            "text/plain": [
              "      Total Gross in Billions  Number of Movies  \\\n",
              "Year                                              \n",
              "2022                     5.64               380   \n",
              "2021                     4.48               439   \n",
              "2020                     2.11               456   \n",
              "2019                    11.36               910   \n",
              "2018                    11.89               993   \n",
              "...                       ...               ...   \n",
              "1981                     0.90                56   \n",
              "1980                     1.64                68   \n",
              "1979                     1.23                40   \n",
              "1978                     0.83                13   \n",
              "1977                     0.44                 9   \n",
              "\n",
              "                                            #1 Movie  \n",
              "Year                                                  \n",
              "2022                               Top Gun: Maverick  \n",
              "2021                         Spider-Man: No Way Home  \n",
              "2020                               Bad Boys for Life  \n",
              "2019                               Avengers: Endgame  \n",
              "2018                                   Black Panther  \n",
              "...                                              ...  \n",
              "1981                                     Superman II  \n",
              "1980  Star Wars: Episode V - The Empire Strikes Back  \n",
              "1979                                        Superman  \n",
              "1978                                          Grease  \n",
              "1977              Star Wars: Episode IV - A New Hope  \n",
              "\n",
              "[46 rows x 3 columns]"
            ]
          },
          "execution_count": 8,
          "metadata": {},
          "output_type": "execute_result"
        }
      ],
      "source": [
        "movies_by_year = bpd.read_csv('https://raw.githubusercontent.com/flaviovdf/fcd/master/assets/07-DataViz/data/movies_by_year.csv').set_index('Year')\n",
        "movies_by_year"
      ]
    },
    {
      "cell_type": "markdown",
      "metadata": {
        "id": "S2PbLNgE2PBA"
      },
      "source": [
        "### Gráficos de linha\n",
        "\n",
        "Como o número de filmes mudou ao longo do tempo? 🤔"
      ]
    },
    {
      "cell_type": "code",
      "execution_count": null,
      "metadata": {
        "execution": {
          "iopub.execute_input": "2024-04-09T15:24:04.462360Z",
          "iopub.status.busy": "2024-04-09T15:24:04.461460Z",
          "iopub.status.idle": "2024-04-09T15:24:04.639262Z",
          "shell.execute_reply": "2024-04-09T15:24:04.638405Z"
        },
        "id": "R6KIpBT62PBA",
        "outputId": "f57af229-47fb-4e56-d689-7f035d477661"
      },
      "outputs": [
        {
          "data": {
            "image/png": "[encoded data removed]",
            "text/plain": [
              "<Figure size 640x480 with 1 Axes>"
            ]
          },
          "metadata": {},
          "output_type": "display_data"
        }
      ],
      "source": [
        "movies_by_year.plot(kind='line', y='Number of Movies');"
      ]
    },
    {
      "cell_type": "markdown",
      "metadata": {
        "id": "WSj0Yelu2PBB"
      },
      "source": [
        "### Gráficos de linha\n",
        "\n",
        "- Os gráficos de linhas mostram tendências em variáveis ​​numéricas ao longo do tempo.\n",
        "- Para criar um a partir de um DataFrame `df`, use\n",
        "```\n",
        "df.plot(\n",
        "    kind='line',\n",
        "    x=x_column_for_horizontal,\n",
        "    y=y_column_for_vertical\n",
        ")\n",
        "```"
      ]
    },
    {
      "cell_type": "markdown",
      "metadata": {
        "id": "ElwNOa2u2PBB"
      },
      "source": [
        "### Dica de plotagem\n",
        "\n",
        "- **Dica**: se você quiser que o eixo x seja o índice, omita o argumento `x=`!\n",
        "- Não funciona para gráficos de dispersão, mas funciona para a maioria dos outros tipos de gráficos."
      ]
    },
    {
      "cell_type": "code",
      "execution_count": null,
      "metadata": {
        "execution": {
          "iopub.execute_input": "2024-04-09T15:24:04.642920Z",
          "iopub.status.busy": "2024-04-09T15:24:04.642483Z",
          "iopub.status.idle": "2024-04-09T15:24:04.840708Z",
          "shell.execute_reply": "2024-04-09T15:24:04.839987Z"
        },
        "id": "hbA66Bka2PBB",
        "outputId": "05fb9406-0664-46a8-d567-734e5e416c6f"
      },
      "outputs": [
        {
          "data": {
            "image/png": "[encoded data removed]",
            "text/plain": [
              "<Figure size 640x480 with 1 Axes>"
            ]
          },
          "metadata": {},
          "output_type": "display_data"
        }
      ],
      "source": [
        "movies_by_year.plot(kind='line', y='Number of Movies');"
      ]
    },
    {
      "cell_type": "markdown",
      "metadata": {
        "id": "pPPLiQZP2PBC"
      },
      "source": [
        "### Desde o ano 2000\n",
        "\n",
        "Podemos criar um gráfico de linhas de apenas 2.000 em diante consultando `movies_by_year` antes de chamar `.plot`."
      ]
    },
    {
      "cell_type": "code",
      "execution_count": null,
      "metadata": {
        "execution": {
          "iopub.execute_input": "2024-04-09T15:24:04.843173Z",
          "iopub.status.busy": "2024-04-09T15:24:04.842964Z",
          "iopub.status.idle": "2024-04-09T15:24:04.995278Z",
          "shell.execute_reply": "2024-04-09T15:24:04.994585Z"
        },
        "scrolled": false,
        "id": "MsY8GDnr2PBC",
        "outputId": "5f0eb3ce-c3dc-4271-eda1-58e16e17921f"
      },
      "outputs": [
        {
          "data": {
            "image/png": "[encoded data removed]",
            "text/plain": [
              "<Figure size 640x480 with 1 Axes>"
            ]
          },
          "metadata": {},
          "output_type": "display_data"
        }
      ],
      "source": [
        "movies_by_year[movies_by_year.index >= 2000].plot(kind='line', y='Number of Movies');"
      ]
    },
    {
      "cell_type": "markdown",
      "metadata": {
        "id": "hWS1bwv72PBD"
      },
      "source": [
        "O que você acha que explica as quedas em torno de 2008 e 2020?"
      ]
    },
    {
      "cell_type": "markdown",
      "metadata": {
        "id": "8E8ghATU2PBD"
      },
      "source": [
        "### Como isso afetou o total bruto?"
      ]
    },
    {
      "cell_type": "code",
      "execution_count": null,
      "metadata": {
        "execution": {
          "iopub.execute_input": "2024-04-09T15:24:04.998176Z",
          "iopub.status.busy": "2024-04-09T15:24:04.997935Z",
          "iopub.status.idle": "2024-04-09T15:24:05.147773Z",
          "shell.execute_reply": "2024-04-09T15:24:05.147125Z"
        },
        "id": "MGRdKmML2PBD",
        "outputId": "43b37388-fb2f-4bc9-d390-d2265c446aa2"
      },
      "outputs": [
        {
          "data": {
            "image/png": "[encoded data removed]",
            "text/plain": [
              "<Figure size 640x480 with 1 Axes>"
            ]
          },
          "metadata": {},
          "output_type": "display_data"
        }
      ],
      "source": [
        "movies_by_year[movies_by_year.index >= 2000].plot(kind='line', y='Total Gross in Billions');"
      ]
    },
    {
      "cell_type": "markdown",
      "metadata": {
        "id": "JEXah5n_2PBD"
      },
      "source": [
        "### Qual foi o filme de maior bilheteria de 2016? 🐟"
      ]
    },
    {
      "cell_type": "code",
      "execution_count": null,
      "metadata": {
        "execution": {
          "iopub.execute_input": "2024-04-09T15:24:05.150285Z",
          "iopub.status.busy": "2024-04-09T15:24:05.149958Z",
          "iopub.status.idle": "2024-04-09T15:24:05.154230Z",
          "shell.execute_reply": "2024-04-09T15:24:05.153571Z"
        },
        "id": "a-c4cuyx2PBE",
        "outputId": "7adeb26b-cc19-450f-aa69-13489be49fb9"
      },
      "outputs": [
        {
          "data": {
            "text/plain": [
              "Ellipsis"
            ]
          },
          "execution_count": 13,
          "metadata": {},
          "output_type": "execute_result"
        }
      ],
      "source": [
        "..."
      ]
    },
    {
      "cell_type": "markdown",
      "metadata": {
        "id": "eMcyUKdj2PBE"
      },
      "source": [
        "## Gráficos de barras 📊"
      ]
    },
    {
      "cell_type": "markdown",
      "metadata": {
        "id": "sfs44xJD2PBE"
      },
      "source": [
        "### Conjunto de dados das 200 melhores músicas dos EUA no Spotify no sábado (21/01/23)\n",
        "\n",
        "[Downloaded from here – check it out!](https://spotifycharts.com/regional)"
      ]
    },
    {
      "cell_type": "code",
      "execution_count": null,
      "metadata": {
        "execution": {
          "iopub.execute_input": "2024-04-09T15:24:05.157772Z",
          "iopub.status.busy": "2024-04-09T15:24:05.157282Z",
          "iopub.status.idle": "2024-04-09T15:24:05.334134Z",
          "shell.execute_reply": "2024-04-09T15:24:05.332357Z"
        },
        "id": "pkD6RSrM2PBE",
        "outputId": "2551136c-6a10-4ab2-d043-3d8fac665487"
      },
      "outputs": [
        {
          "data": {
            "text/html": [
              "<div>\n",
              "<style scoped>\n",
              "    .dataframe tbody tr th:only-of-type {\n",
              "        vertical-align: middle;\n",
              "    }\n",
              "\n",
              "    .dataframe tbody tr th {\n",
              "        vertical-align: top;\n",
              "    }\n",
              "\n",
              "    .dataframe thead th {\n",
              "        text-align: right;\n",
              "    }\n",
              "</style>\n",
              "<table border=\"1\" class=\"dataframe\">\n",
              "  <thead>\n",
              "    <tr style=\"text-align: right;\">\n",
              "      <th></th>\n",
              "      <th>track_name</th>\n",
              "      <th>artist_names</th>\n",
              "      <th>streams</th>\n",
              "      <th>uri</th>\n",
              "    </tr>\n",
              "    <tr>\n",
              "      <th>rank</th>\n",
              "      <th></th>\n",
              "      <th></th>\n",
              "      <th></th>\n",
              "      <th></th>\n",
              "    </tr>\n",
              "  </thead>\n",
              "  <tbody>\n",
              "    <tr>\n",
              "      <th>1</th>\n",
              "      <td>Flowers</td>\n",
              "      <td>Miley Cyrus</td>\n",
              "      <td>3356361</td>\n",
              "      <td>spotify:track:0yLdNVWF3Srea0uzk55zFn</td>\n",
              "    </tr>\n",
              "    <tr>\n",
              "      <th>2</th>\n",
              "      <td>Kill Bill</td>\n",
              "      <td>SZA</td>\n",
              "      <td>2479445</td>\n",
              "      <td>spotify:track:1Qrg8KqiBpW07V7PNxwwwL</td>\n",
              "    </tr>\n",
              "    <tr>\n",
              "      <th>3</th>\n",
              "      <td>Creepin' (with The Weeknd &amp; 21 Savage)</td>\n",
              "      <td>Metro Boomin, The Weeknd, 21 Savage</td>\n",
              "      <td>1337320</td>\n",
              "      <td>spotify:track:2dHHgzDwk4BJdRwy9uXhTO</td>\n",
              "    </tr>\n",
              "    <tr>\n",
              "      <th>4</th>\n",
              "      <td>Superhero (Heroes &amp; Villains) [with Future &amp; C...</td>\n",
              "      <td>Metro Boomin, Future, Chris Brown</td>\n",
              "      <td>1235285</td>\n",
              "      <td>spotify:track:0vjeOZ3Ft5jvAi9SBFJm1j</td>\n",
              "    </tr>\n",
              "    <tr>\n",
              "      <th>5</th>\n",
              "      <td>Rich Flex</td>\n",
              "      <td>Drake, 21 Savage</td>\n",
              "      <td>1109704</td>\n",
              "      <td>spotify:track:1bDbXMyjaUIooNwFE9wn0N</td>\n",
              "    </tr>\n",
              "    <tr>\n",
              "      <th>...</th>\n",
              "      <td>...</td>\n",
              "      <td>...</td>\n",
              "      <td>...</td>\n",
              "      <td>...</td>\n",
              "    </tr>\n",
              "    <tr>\n",
              "      <th>196</th>\n",
              "      <td>Burn, Burn, Burn</td>\n",
              "      <td>Zach Bryan</td>\n",
              "      <td>267772</td>\n",
              "      <td>spotify:track:5jfhLCSIFUO4ndzNRh4w4G</td>\n",
              "    </tr>\n",
              "    <tr>\n",
              "      <th>197</th>\n",
              "      <td>LET GO</td>\n",
              "      <td>Central Cee</td>\n",
              "      <td>267401</td>\n",
              "      <td>spotify:track:3zkyus0njMCL6phZmNNEeN</td>\n",
              "    </tr>\n",
              "    <tr>\n",
              "      <th>198</th>\n",
              "      <td>Major Distribution</td>\n",
              "      <td>Drake, 21 Savage</td>\n",
              "      <td>266986</td>\n",
              "      <td>spotify:track:46s57QULU02Voy0Kup6UEb</td>\n",
              "    </tr>\n",
              "    <tr>\n",
              "      <th>199</th>\n",
              "      <td>Sun to Me</td>\n",
              "      <td>Zach Bryan</td>\n",
              "      <td>266968</td>\n",
              "      <td>spotify:track:1SjsVdSXpwm1kTdYEHoPIT</td>\n",
              "    </tr>\n",
              "    <tr>\n",
              "      <th>200</th>\n",
              "      <td>The Real Slim Shady</td>\n",
              "      <td>Eminem</td>\n",
              "      <td>266698</td>\n",
              "      <td>spotify:track:3yfqSUWxFvZELEM4PmlwIR</td>\n",
              "    </tr>\n",
              "  </tbody>\n",
              "</table>\n",
              "<p>200 rows × 4 columns</p>\n",
              "</div>"
            ],
            "text/plain": [
              "                                             track_name  \\\n",
              "rank                                                      \n",
              "1                                               Flowers   \n",
              "2                                             Kill Bill   \n",
              "3                Creepin' (with The Weeknd & 21 Savage)   \n",
              "4     Superhero (Heroes & Villains) [with Future & C...   \n",
              "5                                             Rich Flex   \n",
              "...                                                 ...   \n",
              "196                                    Burn, Burn, Burn   \n",
              "197                                              LET GO   \n",
              "198                                  Major Distribution   \n",
              "199                                           Sun to Me   \n",
              "200                                 The Real Slim Shady   \n",
              "\n",
              "                             artist_names  streams  \\\n",
              "rank                                                 \n",
              "1                             Miley Cyrus  3356361   \n",
              "2                                     SZA  2479445   \n",
              "3     Metro Boomin, The Weeknd, 21 Savage  1337320   \n",
              "4       Metro Boomin, Future, Chris Brown  1235285   \n",
              "5                        Drake, 21 Savage  1109704   \n",
              "...                                   ...      ...   \n",
              "196                            Zach Bryan   267772   \n",
              "197                           Central Cee   267401   \n",
              "198                      Drake, 21 Savage   266986   \n",
              "199                            Zach Bryan   266968   \n",
              "200                                Eminem   266698   \n",
              "\n",
              "                                       uri  \n",
              "rank                                        \n",
              "1     spotify:track:0yLdNVWF3Srea0uzk55zFn  \n",
              "2     spotify:track:1Qrg8KqiBpW07V7PNxwwwL  \n",
              "3     spotify:track:2dHHgzDwk4BJdRwy9uXhTO  \n",
              "4     spotify:track:0vjeOZ3Ft5jvAi9SBFJm1j  \n",
              "5     spotify:track:1bDbXMyjaUIooNwFE9wn0N  \n",
              "...                                    ...  \n",
              "196   spotify:track:5jfhLCSIFUO4ndzNRh4w4G  \n",
              "197   spotify:track:3zkyus0njMCL6phZmNNEeN  \n",
              "198   spotify:track:46s57QULU02Voy0Kup6UEb  \n",
              "199   spotify:track:1SjsVdSXpwm1kTdYEHoPIT  \n",
              "200   spotify:track:3yfqSUWxFvZELEM4PmlwIR  \n",
              "\n",
              "[200 rows x 4 columns]"
            ]
          },
          "execution_count": 14,
          "metadata": {},
          "output_type": "execute_result"
        }
      ],
      "source": [
        "charts = (bpd.read_csv('https://raw.githubusercontent.com/flaviovdf/fcd/master/assets/07-DataViz/data/regional-us-daily-2023-01-21.csv')\n",
        "          .set_index('rank')\n",
        "          .get(['track_name', 'artist_names', 'streams', 'uri'])\n",
        "         )\n",
        "charts"
      ]
    },
    {
      "cell_type": "markdown",
      "metadata": {
        "id": "vNVusBUx2PBF"
      },
      "source": [
        "### Gráficos de barra\n",
        "\n",
        "Quantos streams as 10 músicas mais populares têm?"
      ]
    },
    {
      "cell_type": "code",
      "execution_count": null,
      "metadata": {
        "execution": {
          "iopub.execute_input": "2024-04-09T15:24:05.340961Z",
          "iopub.status.busy": "2024-04-09T15:24:05.339911Z",
          "iopub.status.idle": "2024-04-09T15:24:05.356984Z",
          "shell.execute_reply": "2024-04-09T15:24:05.355716Z"
        },
        "id": "OTjp2OvW2PBF",
        "outputId": "f24e202c-82d4-4c52-e3a7-31096f31cec6"
      },
      "outputs": [
        {
          "data": {
            "text/html": [
              "<div>\n",
              "<style scoped>\n",
              "    .dataframe tbody tr th:only-of-type {\n",
              "        vertical-align: middle;\n",
              "    }\n",
              "\n",
              "    .dataframe tbody tr th {\n",
              "        vertical-align: top;\n",
              "    }\n",
              "\n",
              "    .dataframe thead th {\n",
              "        text-align: right;\n",
              "    }\n",
              "</style>\n",
              "<table border=\"1\" class=\"dataframe\">\n",
              "  <thead>\n",
              "    <tr style=\"text-align: right;\">\n",
              "      <th></th>\n",
              "      <th>track_name</th>\n",
              "      <th>artist_names</th>\n",
              "      <th>streams</th>\n",
              "      <th>uri</th>\n",
              "    </tr>\n",
              "    <tr>\n",
              "      <th>rank</th>\n",
              "      <th></th>\n",
              "      <th></th>\n",
              "      <th></th>\n",
              "      <th></th>\n",
              "    </tr>\n",
              "  </thead>\n",
              "  <tbody>\n",
              "    <tr>\n",
              "      <th>1</th>\n",
              "      <td>Flowers</td>\n",
              "      <td>Miley Cyrus</td>\n",
              "      <td>3356361</td>\n",
              "      <td>spotify:track:0yLdNVWF3Srea0uzk55zFn</td>\n",
              "    </tr>\n",
              "    <tr>\n",
              "      <th>2</th>\n",
              "      <td>Kill Bill</td>\n",
              "      <td>SZA</td>\n",
              "      <td>2479445</td>\n",
              "      <td>spotify:track:1Qrg8KqiBpW07V7PNxwwwL</td>\n",
              "    </tr>\n",
              "    <tr>\n",
              "      <th>3</th>\n",
              "      <td>Creepin' (with The Weeknd &amp; 21 Savage)</td>\n",
              "      <td>Metro Boomin, The Weeknd, 21 Savage</td>\n",
              "      <td>1337320</td>\n",
              "      <td>spotify:track:2dHHgzDwk4BJdRwy9uXhTO</td>\n",
              "    </tr>\n",
              "    <tr>\n",
              "      <th>4</th>\n",
              "      <td>Superhero (Heroes &amp; Villains) [with Future &amp; C...</td>\n",
              "      <td>Metro Boomin, Future, Chris Brown</td>\n",
              "      <td>1235285</td>\n",
              "      <td>spotify:track:0vjeOZ3Ft5jvAi9SBFJm1j</td>\n",
              "    </tr>\n",
              "    <tr>\n",
              "      <th>5</th>\n",
              "      <td>Rich Flex</td>\n",
              "      <td>Drake, 21 Savage</td>\n",
              "      <td>1109704</td>\n",
              "      <td>spotify:track:1bDbXMyjaUIooNwFE9wn0N</td>\n",
              "    </tr>\n",
              "    <tr>\n",
              "      <th>...</th>\n",
              "      <td>...</td>\n",
              "      <td>...</td>\n",
              "      <td>...</td>\n",
              "      <td>...</td>\n",
              "    </tr>\n",
              "    <tr>\n",
              "      <th>196</th>\n",
              "      <td>Burn, Burn, Burn</td>\n",
              "      <td>Zach Bryan</td>\n",
              "      <td>267772</td>\n",
              "      <td>spotify:track:5jfhLCSIFUO4ndzNRh4w4G</td>\n",
              "    </tr>\n",
              "    <tr>\n",
              "      <th>197</th>\n",
              "      <td>LET GO</td>\n",
              "      <td>Central Cee</td>\n",
              "      <td>267401</td>\n",
              "      <td>spotify:track:3zkyus0njMCL6phZmNNEeN</td>\n",
              "    </tr>\n",
              "    <tr>\n",
              "      <th>198</th>\n",
              "      <td>Major Distribution</td>\n",
              "      <td>Drake, 21 Savage</td>\n",
              "      <td>266986</td>\n",
              "      <td>spotify:track:46s57QULU02Voy0Kup6UEb</td>\n",
              "    </tr>\n",
              "    <tr>\n",
              "      <th>199</th>\n",
              "      <td>Sun to Me</td>\n",
              "      <td>Zach Bryan</td>\n",
              "      <td>266968</td>\n",
              "      <td>spotify:track:1SjsVdSXpwm1kTdYEHoPIT</td>\n",
              "    </tr>\n",
              "    <tr>\n",
              "      <th>200</th>\n",
              "      <td>The Real Slim Shady</td>\n",
              "      <td>Eminem</td>\n",
              "      <td>266698</td>\n",
              "      <td>spotify:track:3yfqSUWxFvZELEM4PmlwIR</td>\n",
              "    </tr>\n",
              "  </tbody>\n",
              "</table>\n",
              "<p>200 rows × 4 columns</p>\n",
              "</div>"
            ],
            "text/plain": [
              "                                             track_name  \\\n",
              "rank                                                      \n",
              "1                                               Flowers   \n",
              "2                                             Kill Bill   \n",
              "3                Creepin' (with The Weeknd & 21 Savage)   \n",
              "4     Superhero (Heroes & Villains) [with Future & C...   \n",
              "5                                             Rich Flex   \n",
              "...                                                 ...   \n",
              "196                                    Burn, Burn, Burn   \n",
              "197                                              LET GO   \n",
              "198                                  Major Distribution   \n",
              "199                                           Sun to Me   \n",
              "200                                 The Real Slim Shady   \n",
              "\n",
              "                             artist_names  streams  \\\n",
              "rank                                                 \n",
              "1                             Miley Cyrus  3356361   \n",
              "2                                     SZA  2479445   \n",
              "3     Metro Boomin, The Weeknd, 21 Savage  1337320   \n",
              "4       Metro Boomin, Future, Chris Brown  1235285   \n",
              "5                        Drake, 21 Savage  1109704   \n",
              "...                                   ...      ...   \n",
              "196                            Zach Bryan   267772   \n",
              "197                           Central Cee   267401   \n",
              "198                      Drake, 21 Savage   266986   \n",
              "199                            Zach Bryan   266968   \n",
              "200                                Eminem   266698   \n",
              "\n",
              "                                       uri  \n",
              "rank                                        \n",
              "1     spotify:track:0yLdNVWF3Srea0uzk55zFn  \n",
              "2     spotify:track:1Qrg8KqiBpW07V7PNxwwwL  \n",
              "3     spotify:track:2dHHgzDwk4BJdRwy9uXhTO  \n",
              "4     spotify:track:0vjeOZ3Ft5jvAi9SBFJm1j  \n",
              "5     spotify:track:1bDbXMyjaUIooNwFE9wn0N  \n",
              "...                                    ...  \n",
              "196   spotify:track:5jfhLCSIFUO4ndzNRh4w4G  \n",
              "197   spotify:track:3zkyus0njMCL6phZmNNEeN  \n",
              "198   spotify:track:46s57QULU02Voy0Kup6UEb  \n",
              "199   spotify:track:1SjsVdSXpwm1kTdYEHoPIT  \n",
              "200   spotify:track:3yfqSUWxFvZELEM4PmlwIR  \n",
              "\n",
              "[200 rows x 4 columns]"
            ]
          },
          "execution_count": 15,
          "metadata": {},
          "output_type": "execute_result"
        }
      ],
      "source": [
        "charts"
      ]
    },
    {
      "cell_type": "code",
      "execution_count": null,
      "metadata": {
        "execution": {
          "iopub.execute_input": "2024-04-09T15:24:05.360292Z",
          "iopub.status.busy": "2024-04-09T15:24:05.359980Z",
          "iopub.status.idle": "2024-04-09T15:24:05.369558Z",
          "shell.execute_reply": "2024-04-09T15:24:05.368778Z"
        },
        "id": "QCweuKHA2PBJ",
        "outputId": "90e7b41e-24ba-4b8d-aca2-5f735c128c28"
      },
      "outputs": [
        {
          "data": {
            "text/html": [
              "<div>\n",
              "<style scoped>\n",
              "    .dataframe tbody tr th:only-of-type {\n",
              "        vertical-align: middle;\n",
              "    }\n",
              "\n",
              "    .dataframe tbody tr th {\n",
              "        vertical-align: top;\n",
              "    }\n",
              "\n",
              "    .dataframe thead th {\n",
              "        text-align: right;\n",
              "    }\n",
              "</style>\n",
              "<table border=\"1\" class=\"dataframe\">\n",
              "  <thead>\n",
              "    <tr style=\"text-align: right;\">\n",
              "      <th></th>\n",
              "      <th>track_name</th>\n",
              "      <th>artist_names</th>\n",
              "      <th>streams</th>\n",
              "      <th>uri</th>\n",
              "    </tr>\n",
              "    <tr>\n",
              "      <th>rank</th>\n",
              "      <th></th>\n",
              "      <th></th>\n",
              "      <th></th>\n",
              "      <th></th>\n",
              "    </tr>\n",
              "  </thead>\n",
              "  <tbody>\n",
              "    <tr>\n",
              "      <th>1</th>\n",
              "      <td>Flowers</td>\n",
              "      <td>Miley Cyrus</td>\n",
              "      <td>3356361</td>\n",
              "      <td>spotify:track:0yLdNVWF3Srea0uzk55zFn</td>\n",
              "    </tr>\n",
              "    <tr>\n",
              "      <th>2</th>\n",
              "      <td>Kill Bill</td>\n",
              "      <td>SZA</td>\n",
              "      <td>2479445</td>\n",
              "      <td>spotify:track:1Qrg8KqiBpW07V7PNxwwwL</td>\n",
              "    </tr>\n",
              "    <tr>\n",
              "      <th>3</th>\n",
              "      <td>Creepin' (with The Weeknd &amp; 21 Savage)</td>\n",
              "      <td>Metro Boomin, The Weeknd, 21 Savage</td>\n",
              "      <td>1337320</td>\n",
              "      <td>spotify:track:2dHHgzDwk4BJdRwy9uXhTO</td>\n",
              "    </tr>\n",
              "    <tr>\n",
              "      <th>4</th>\n",
              "      <td>Superhero (Heroes &amp; Villains) [with Future &amp; C...</td>\n",
              "      <td>Metro Boomin, Future, Chris Brown</td>\n",
              "      <td>1235285</td>\n",
              "      <td>spotify:track:0vjeOZ3Ft5jvAi9SBFJm1j</td>\n",
              "    </tr>\n",
              "    <tr>\n",
              "      <th>5</th>\n",
              "      <td>Rich Flex</td>\n",
              "      <td>Drake, 21 Savage</td>\n",
              "      <td>1109704</td>\n",
              "      <td>spotify:track:1bDbXMyjaUIooNwFE9wn0N</td>\n",
              "    </tr>\n",
              "    <tr>\n",
              "      <th>6</th>\n",
              "      <td>Shakira: Bzrp Music Sessions, Vol. 53</td>\n",
              "      <td>Bizarrap, Shakira</td>\n",
              "      <td>1051226</td>\n",
              "      <td>spotify:track:4nrPB8O7Y7wsOCJdgXkthe</td>\n",
              "    </tr>\n",
              "    <tr>\n",
              "      <th>7</th>\n",
              "      <td>Just Wanna Rock</td>\n",
              "      <td>Lil Uzi Vert</td>\n",
              "      <td>998684</td>\n",
              "      <td>spotify:track:4FyesJzVpA39hbYvcseO2d</td>\n",
              "    </tr>\n",
              "    <tr>\n",
              "      <th>8</th>\n",
              "      <td>Anti-Hero</td>\n",
              "      <td>Taylor Swift</td>\n",
              "      <td>936166</td>\n",
              "      <td>spotify:track:0V3wPSX9ygBnCm8psDIegu</td>\n",
              "    </tr>\n",
              "    <tr>\n",
              "      <th>9</th>\n",
              "      <td>golden hour</td>\n",
              "      <td>JVKE</td>\n",
              "      <td>870031</td>\n",
              "      <td>spotify:track:5odlY52u43F5BjByhxg7wg</td>\n",
              "    </tr>\n",
              "    <tr>\n",
              "      <th>10</th>\n",
              "      <td>Unholy (feat. Kim Petras)</td>\n",
              "      <td>Sam Smith, Kim Petras</td>\n",
              "      <td>859271</td>\n",
              "      <td>spotify:track:3nqQXoyQOWXiESFLlDF1hG</td>\n",
              "    </tr>\n",
              "  </tbody>\n",
              "</table>\n",
              "</div>"
            ],
            "text/plain": [
              "                                             track_name  \\\n",
              "rank                                                      \n",
              "1                                               Flowers   \n",
              "2                                             Kill Bill   \n",
              "3                Creepin' (with The Weeknd & 21 Savage)   \n",
              "4     Superhero (Heroes & Villains) [with Future & C...   \n",
              "5                                             Rich Flex   \n",
              "6                 Shakira: Bzrp Music Sessions, Vol. 53   \n",
              "7                                       Just Wanna Rock   \n",
              "8                                             Anti-Hero   \n",
              "9                                           golden hour   \n",
              "10                            Unholy (feat. Kim Petras)   \n",
              "\n",
              "                             artist_names  streams  \\\n",
              "rank                                                 \n",
              "1                             Miley Cyrus  3356361   \n",
              "2                                     SZA  2479445   \n",
              "3     Metro Boomin, The Weeknd, 21 Savage  1337320   \n",
              "4       Metro Boomin, Future, Chris Brown  1235285   \n",
              "5                        Drake, 21 Savage  1109704   \n",
              "6                       Bizarrap, Shakira  1051226   \n",
              "7                            Lil Uzi Vert   998684   \n",
              "8                            Taylor Swift   936166   \n",
              "9                                    JVKE   870031   \n",
              "10                  Sam Smith, Kim Petras   859271   \n",
              "\n",
              "                                       uri  \n",
              "rank                                        \n",
              "1     spotify:track:0yLdNVWF3Srea0uzk55zFn  \n",
              "2     spotify:track:1Qrg8KqiBpW07V7PNxwwwL  \n",
              "3     spotify:track:2dHHgzDwk4BJdRwy9uXhTO  \n",
              "4     spotify:track:0vjeOZ3Ft5jvAi9SBFJm1j  \n",
              "5     spotify:track:1bDbXMyjaUIooNwFE9wn0N  \n",
              "6     spotify:track:4nrPB8O7Y7wsOCJdgXkthe  \n",
              "7     spotify:track:4FyesJzVpA39hbYvcseO2d  \n",
              "8     spotify:track:0V3wPSX9ygBnCm8psDIegu  \n",
              "9     spotify:track:5odlY52u43F5BjByhxg7wg  \n",
              "10    spotify:track:3nqQXoyQOWXiESFLlDF1hG  "
            ]
          },
          "execution_count": 16,
          "metadata": {},
          "output_type": "execute_result"
        }
      ],
      "source": [
        "charts.take(np.arange(10))"
      ]
    },
    {
      "cell_type": "code",
      "execution_count": null,
      "metadata": {
        "execution": {
          "iopub.execute_input": "2024-04-09T15:24:05.372800Z",
          "iopub.status.busy": "2024-04-09T15:24:05.372402Z",
          "iopub.status.idle": "2024-04-09T15:24:05.575418Z",
          "shell.execute_reply": "2024-04-09T15:24:05.574741Z"
        },
        "id": "R2u_Fjlh2PBJ",
        "outputId": "6ffddca5-2182-4f36-8134-7f876e0d5b0b"
      },
      "outputs": [
        {
          "data": {
            "image/png": "[encoded data removed]",
            "text/plain": [
              "<Figure size 640x480 with 1 Axes>"
            ]
          },
          "metadata": {},
          "output_type": "display_data"
        }
      ],
      "source": [
        "charts.take(np.arange(10)).plot(kind='barh', x='track_name', y='streams');"
      ]
    },
    {
      "cell_type": "markdown",
      "metadata": {
        "id": "lWsDc4S42PBL"
      },
      "source": [
        "### Gráficos de barra\n",
        "\n",
        "- Os gráficos de barras visualizam a relação entre uma variável categórica e uma variável numérica.\n",
        "- Em um gráfico de barras...\n",
        "- A espessura e o espaçamento das barras são arbitrários.\n",
        "- A ordem dos rótulos categóricos não importa.\n",
        "- Para criar um a partir de um DataFrame `df`, use\n",
        "```\n",
        "df.plot(\n",
        "    kind='barh',\n",
        "    x=categorical_column_name,\n",
        "    y=numerical_column_name\n",
        ")\n",
        "```\n",
        "- O **\"h\"** em `'barh'` significa **\"horizontal\"**.\n",
        "- É mais fácil ler os rótulos desta forma.\n",
        "- No gráfico anterior, definimos `y='Streams'` mesmo que os streams sejam medidos pelo comprimento do eixo x."
      ]
    },
    {
      "cell_type": "code",
      "execution_count": null,
      "metadata": {
        "execution": {
          "iopub.execute_input": "2024-04-09T15:24:05.578691Z",
          "iopub.status.busy": "2024-04-09T15:24:05.578251Z",
          "iopub.status.idle": "2024-04-09T15:24:05.833757Z",
          "shell.execute_reply": "2024-04-09T15:24:05.833044Z"
        },
        "id": "NktCydc72PBM",
        "outputId": "b855b302-8f0f-413d-b5ce-a90ce1cdb131"
      },
      "outputs": [
        {
          "data": {
            "image/png": "[encoded data removed]",
            "text/plain": [
              "<Figure size 640x480 with 1 Axes>"
            ]
          },
          "metadata": {},
          "output_type": "display_data"
        }
      ],
      "source": [
        "# The bars appear in the opposite order relative to the DataFrame\n",
        "(charts\n",
        " .take(np.arange(10))\n",
        " .sort_values(by='streams')\n",
        " .plot(kind='barh', x='track_name', y='streams')\n",
        ");"
      ]
    },
    {
      "cell_type": "markdown",
      "metadata": {
        "id": "ShpOPWjk2PBM"
      },
      "source": [
        "### Quantas músicas os 15 melhores artistas têm entre os 200 melhores?"
      ]
    },
    {
      "cell_type": "markdown",
      "metadata": {
        "id": "ssCQm23b2PBN"
      },
      "source": [
        "Primeiro, vamos criar um DataFrame com uma única coluna que descreve o número de músicas entre as 200 melhores por artista. Isso envolve usar `.groupby` com `.count()`. Como queremos uma linha por artista, agruparemos por `'nomes_artistas'`."
      ]
    },
    {
      "cell_type": "code",
      "execution_count": null,
      "metadata": {
        "execution": {
          "iopub.execute_input": "2024-04-09T15:24:05.837000Z",
          "iopub.status.busy": "2024-04-09T15:24:05.836699Z",
          "iopub.status.idle": "2024-04-09T15:24:05.848052Z",
          "shell.execute_reply": "2024-04-09T15:24:05.847448Z"
        },
        "id": "PehNLl8l2PBN",
        "outputId": "03363865-59db-4ebf-c261-e811ddccc7a6"
      },
      "outputs": [
        {
          "data": {
            "text/html": [
              "<div>\n",
              "<style scoped>\n",
              "    .dataframe tbody tr th:only-of-type {\n",
              "        vertical-align: middle;\n",
              "    }\n",
              "\n",
              "    .dataframe tbody tr th {\n",
              "        vertical-align: top;\n",
              "    }\n",
              "\n",
              "    .dataframe thead th {\n",
              "        text-align: right;\n",
              "    }\n",
              "</style>\n",
              "<table border=\"1\" class=\"dataframe\">\n",
              "  <thead>\n",
              "    <tr style=\"text-align: right;\">\n",
              "      <th></th>\n",
              "      <th>track_name</th>\n",
              "      <th>artist_names</th>\n",
              "      <th>streams</th>\n",
              "      <th>uri</th>\n",
              "    </tr>\n",
              "    <tr>\n",
              "      <th>rank</th>\n",
              "      <th></th>\n",
              "      <th></th>\n",
              "      <th></th>\n",
              "      <th></th>\n",
              "    </tr>\n",
              "  </thead>\n",
              "  <tbody>\n",
              "    <tr>\n",
              "      <th>1</th>\n",
              "      <td>Flowers</td>\n",
              "      <td>Miley Cyrus</td>\n",
              "      <td>3356361</td>\n",
              "      <td>spotify:track:0yLdNVWF3Srea0uzk55zFn</td>\n",
              "    </tr>\n",
              "    <tr>\n",
              "      <th>2</th>\n",
              "      <td>Kill Bill</td>\n",
              "      <td>SZA</td>\n",
              "      <td>2479445</td>\n",
              "      <td>spotify:track:1Qrg8KqiBpW07V7PNxwwwL</td>\n",
              "    </tr>\n",
              "    <tr>\n",
              "      <th>3</th>\n",
              "      <td>Creepin' (with The Weeknd &amp; 21 Savage)</td>\n",
              "      <td>Metro Boomin, The Weeknd, 21 Savage</td>\n",
              "      <td>1337320</td>\n",
              "      <td>spotify:track:2dHHgzDwk4BJdRwy9uXhTO</td>\n",
              "    </tr>\n",
              "    <tr>\n",
              "      <th>4</th>\n",
              "      <td>Superhero (Heroes &amp; Villains) [with Future &amp; C...</td>\n",
              "      <td>Metro Boomin, Future, Chris Brown</td>\n",
              "      <td>1235285</td>\n",
              "      <td>spotify:track:0vjeOZ3Ft5jvAi9SBFJm1j</td>\n",
              "    </tr>\n",
              "    <tr>\n",
              "      <th>5</th>\n",
              "      <td>Rich Flex</td>\n",
              "      <td>Drake, 21 Savage</td>\n",
              "      <td>1109704</td>\n",
              "      <td>spotify:track:1bDbXMyjaUIooNwFE9wn0N</td>\n",
              "    </tr>\n",
              "    <tr>\n",
              "      <th>...</th>\n",
              "      <td>...</td>\n",
              "      <td>...</td>\n",
              "      <td>...</td>\n",
              "      <td>...</td>\n",
              "    </tr>\n",
              "    <tr>\n",
              "      <th>196</th>\n",
              "      <td>Burn, Burn, Burn</td>\n",
              "      <td>Zach Bryan</td>\n",
              "      <td>267772</td>\n",
              "      <td>spotify:track:5jfhLCSIFUO4ndzNRh4w4G</td>\n",
              "    </tr>\n",
              "    <tr>\n",
              "      <th>197</th>\n",
              "      <td>LET GO</td>\n",
              "      <td>Central Cee</td>\n",
              "      <td>267401</td>\n",
              "      <td>spotify:track:3zkyus0njMCL6phZmNNEeN</td>\n",
              "    </tr>\n",
              "    <tr>\n",
              "      <th>198</th>\n",
              "      <td>Major Distribution</td>\n",
              "      <td>Drake, 21 Savage</td>\n",
              "      <td>266986</td>\n",
              "      <td>spotify:track:46s57QULU02Voy0Kup6UEb</td>\n",
              "    </tr>\n",
              "    <tr>\n",
              "      <th>199</th>\n",
              "      <td>Sun to Me</td>\n",
              "      <td>Zach Bryan</td>\n",
              "      <td>266968</td>\n",
              "      <td>spotify:track:1SjsVdSXpwm1kTdYEHoPIT</td>\n",
              "    </tr>\n",
              "    <tr>\n",
              "      <th>200</th>\n",
              "      <td>The Real Slim Shady</td>\n",
              "      <td>Eminem</td>\n",
              "      <td>266698</td>\n",
              "      <td>spotify:track:3yfqSUWxFvZELEM4PmlwIR</td>\n",
              "    </tr>\n",
              "  </tbody>\n",
              "</table>\n",
              "<p>200 rows × 4 columns</p>\n",
              "</div>"
            ],
            "text/plain": [
              "                                             track_name  \\\n",
              "rank                                                      \n",
              "1                                               Flowers   \n",
              "2                                             Kill Bill   \n",
              "3                Creepin' (with The Weeknd & 21 Savage)   \n",
              "4     Superhero (Heroes & Villains) [with Future & C...   \n",
              "5                                             Rich Flex   \n",
              "...                                                 ...   \n",
              "196                                    Burn, Burn, Burn   \n",
              "197                                              LET GO   \n",
              "198                                  Major Distribution   \n",
              "199                                           Sun to Me   \n",
              "200                                 The Real Slim Shady   \n",
              "\n",
              "                             artist_names  streams  \\\n",
              "rank                                                 \n",
              "1                             Miley Cyrus  3356361   \n",
              "2                                     SZA  2479445   \n",
              "3     Metro Boomin, The Weeknd, 21 Savage  1337320   \n",
              "4       Metro Boomin, Future, Chris Brown  1235285   \n",
              "5                        Drake, 21 Savage  1109704   \n",
              "...                                   ...      ...   \n",
              "196                            Zach Bryan   267772   \n",
              "197                           Central Cee   267401   \n",
              "198                      Drake, 21 Savage   266986   \n",
              "199                            Zach Bryan   266968   \n",
              "200                                Eminem   266698   \n",
              "\n",
              "                                       uri  \n",
              "rank                                        \n",
              "1     spotify:track:0yLdNVWF3Srea0uzk55zFn  \n",
              "2     spotify:track:1Qrg8KqiBpW07V7PNxwwwL  \n",
              "3     spotify:track:2dHHgzDwk4BJdRwy9uXhTO  \n",
              "4     spotify:track:0vjeOZ3Ft5jvAi9SBFJm1j  \n",
              "5     spotify:track:1bDbXMyjaUIooNwFE9wn0N  \n",
              "...                                    ...  \n",
              "196   spotify:track:5jfhLCSIFUO4ndzNRh4w4G  \n",
              "197   spotify:track:3zkyus0njMCL6phZmNNEeN  \n",
              "198   spotify:track:46s57QULU02Voy0Kup6UEb  \n",
              "199   spotify:track:1SjsVdSXpwm1kTdYEHoPIT  \n",
              "200   spotify:track:3yfqSUWxFvZELEM4PmlwIR  \n",
              "\n",
              "[200 rows x 4 columns]"
            ]
          },
          "execution_count": 19,
          "metadata": {},
          "output_type": "execute_result"
        }
      ],
      "source": [
        "charts"
      ]
    },
    {
      "cell_type": "code",
      "execution_count": null,
      "metadata": {
        "execution": {
          "iopub.execute_input": "2024-04-09T15:24:05.851096Z",
          "iopub.status.busy": "2024-04-09T15:24:05.850799Z",
          "iopub.status.idle": "2024-04-09T15:24:05.861061Z",
          "shell.execute_reply": "2024-04-09T15:24:05.860393Z"
        },
        "id": "KE0HKzMT2PBN",
        "outputId": "6fb02a23-0995-4bed-8cb5-e02afdd33492"
      },
      "outputs": [
        {
          "data": {
            "text/html": [
              "<div>\n",
              "<style scoped>\n",
              "    .dataframe tbody tr th:only-of-type {\n",
              "        vertical-align: middle;\n",
              "    }\n",
              "\n",
              "    .dataframe tbody tr th {\n",
              "        vertical-align: top;\n",
              "    }\n",
              "\n",
              "    .dataframe thead th {\n",
              "        text-align: right;\n",
              "    }\n",
              "</style>\n",
              "<table border=\"1\" class=\"dataframe\">\n",
              "  <thead>\n",
              "    <tr style=\"text-align: right;\">\n",
              "      <th></th>\n",
              "      <th>track_name</th>\n",
              "      <th>streams</th>\n",
              "      <th>uri</th>\n",
              "    </tr>\n",
              "    <tr>\n",
              "      <th>artist_names</th>\n",
              "      <th></th>\n",
              "      <th></th>\n",
              "      <th></th>\n",
              "    </tr>\n",
              "  </thead>\n",
              "  <tbody>\n",
              "    <tr>\n",
              "      <th>21 Savage, Metro Boomin</th>\n",
              "      <td>1</td>\n",
              "      <td>1</td>\n",
              "      <td>1</td>\n",
              "    </tr>\n",
              "    <tr>\n",
              "      <th>80purppp</th>\n",
              "      <td>1</td>\n",
              "      <td>1</td>\n",
              "      <td>1</td>\n",
              "    </tr>\n",
              "    <tr>\n",
              "      <th>A Boogie Wit da Hoodie</th>\n",
              "      <td>1</td>\n",
              "      <td>1</td>\n",
              "      <td>1</td>\n",
              "    </tr>\n",
              "    <tr>\n",
              "      <th>Arctic Monkeys</th>\n",
              "      <td>2</td>\n",
              "      <td>2</td>\n",
              "      <td>2</td>\n",
              "    </tr>\n",
              "    <tr>\n",
              "      <th>Arcángel, Bad Bunny</th>\n",
              "      <td>1</td>\n",
              "      <td>1</td>\n",
              "      <td>1</td>\n",
              "    </tr>\n",
              "    <tr>\n",
              "      <th>...</th>\n",
              "      <td>...</td>\n",
              "      <td>...</td>\n",
              "      <td>...</td>\n",
              "    </tr>\n",
              "    <tr>\n",
              "      <th>XXXTENTACION</th>\n",
              "      <td>1</td>\n",
              "      <td>1</td>\n",
              "      <td>1</td>\n",
              "    </tr>\n",
              "    <tr>\n",
              "      <th>Yeat</th>\n",
              "      <td>1</td>\n",
              "      <td>1</td>\n",
              "      <td>1</td>\n",
              "    </tr>\n",
              "    <tr>\n",
              "      <th>Zach Bryan</th>\n",
              "      <td>4</td>\n",
              "      <td>4</td>\n",
              "      <td>4</td>\n",
              "    </tr>\n",
              "    <tr>\n",
              "      <th>d4vd</th>\n",
              "      <td>2</td>\n",
              "      <td>2</td>\n",
              "      <td>2</td>\n",
              "    </tr>\n",
              "    <tr>\n",
              "      <th>Ñengo Flow, Bad Bunny</th>\n",
              "      <td>1</td>\n",
              "      <td>1</td>\n",
              "      <td>1</td>\n",
              "    </tr>\n",
              "  </tbody>\n",
              "</table>\n",
              "<p>145 rows × 3 columns</p>\n",
              "</div>"
            ],
            "text/plain": [
              "                         track_name  streams  uri\n",
              "artist_names                                     \n",
              "21 Savage, Metro Boomin           1        1    1\n",
              "80purppp                          1        1    1\n",
              "A Boogie Wit da Hoodie            1        1    1\n",
              "Arctic Monkeys                    2        2    2\n",
              "Arcángel, Bad Bunny               1        1    1\n",
              "...                             ...      ...  ...\n",
              "XXXTENTACION                      1        1    1\n",
              "Yeat                              1        1    1\n",
              "Zach Bryan                        4        4    4\n",
              "d4vd                              2        2    2\n",
              "Ñengo Flow, Bad Bunny             1        1    1\n",
              "\n",
              "[145 rows x 3 columns]"
            ]
          },
          "execution_count": 20,
          "metadata": {},
          "output_type": "execute_result"
        }
      ],
      "source": [
        "songs_per_artist = charts.groupby('artist_names').count()\n",
        "songs_per_artist"
      ]
    },
    {
      "cell_type": "markdown",
      "metadata": {
        "id": "zQzIFiSf2PBO"
      },
      "source": [
        "Usando `.sort_values` e `.take`, manteremos apenas os 15 melhores artistas. Observe que todas as colunas em `songs_per_artist` contêm as mesmas informações (isso é uma consequência do uso de `.count()`)."
      ]
    },
    {
      "cell_type": "code",
      "execution_count": null,
      "metadata": {
        "execution": {
          "iopub.execute_input": "2024-04-09T15:24:05.864152Z",
          "iopub.status.busy": "2024-04-09T15:24:05.863728Z",
          "iopub.status.idle": "2024-04-09T15:24:05.872321Z",
          "shell.execute_reply": "2024-04-09T15:24:05.871525Z"
        },
        "id": "Injc83yD2PBP",
        "outputId": "2072a414-c812-44dd-8bc3-6f66810611db"
      },
      "outputs": [
        {
          "data": {
            "text/html": [
              "<div>\n",
              "<style scoped>\n",
              "    .dataframe tbody tr th:only-of-type {\n",
              "        vertical-align: middle;\n",
              "    }\n",
              "\n",
              "    .dataframe tbody tr th {\n",
              "        vertical-align: top;\n",
              "    }\n",
              "\n",
              "    .dataframe thead th {\n",
              "        text-align: right;\n",
              "    }\n",
              "</style>\n",
              "<table border=\"1\" class=\"dataframe\">\n",
              "  <thead>\n",
              "    <tr style=\"text-align: right;\">\n",
              "      <th></th>\n",
              "      <th>track_name</th>\n",
              "      <th>streams</th>\n",
              "      <th>uri</th>\n",
              "    </tr>\n",
              "    <tr>\n",
              "      <th>artist_names</th>\n",
              "      <th></th>\n",
              "      <th></th>\n",
              "      <th></th>\n",
              "    </tr>\n",
              "  </thead>\n",
              "  <tbody>\n",
              "    <tr>\n",
              "      <th>SZA</th>\n",
              "      <td>11</td>\n",
              "      <td>11</td>\n",
              "      <td>11</td>\n",
              "    </tr>\n",
              "    <tr>\n",
              "      <th>Taylor Swift</th>\n",
              "      <td>8</td>\n",
              "      <td>8</td>\n",
              "      <td>8</td>\n",
              "    </tr>\n",
              "    <tr>\n",
              "      <th>Morgan Wallen</th>\n",
              "      <td>6</td>\n",
              "      <td>6</td>\n",
              "      <td>6</td>\n",
              "    </tr>\n",
              "    <tr>\n",
              "      <th>Drake, 21 Savage</th>\n",
              "      <td>5</td>\n",
              "      <td>5</td>\n",
              "      <td>5</td>\n",
              "    </tr>\n",
              "    <tr>\n",
              "      <th>Zach Bryan</th>\n",
              "      <td>4</td>\n",
              "      <td>4</td>\n",
              "      <td>4</td>\n",
              "    </tr>\n",
              "    <tr>\n",
              "      <th>...</th>\n",
              "      <td>...</td>\n",
              "      <td>...</td>\n",
              "      <td>...</td>\n",
              "    </tr>\n",
              "    <tr>\n",
              "      <th>Joji</th>\n",
              "      <td>2</td>\n",
              "      <td>2</td>\n",
              "      <td>2</td>\n",
              "    </tr>\n",
              "    <tr>\n",
              "      <th>Eminem</th>\n",
              "      <td>2</td>\n",
              "      <td>2</td>\n",
              "      <td>2</td>\n",
              "    </tr>\n",
              "    <tr>\n",
              "      <th>Kanye West</th>\n",
              "      <td>2</td>\n",
              "      <td>2</td>\n",
              "      <td>2</td>\n",
              "    </tr>\n",
              "    <tr>\n",
              "      <th>Childish Gambino</th>\n",
              "      <td>2</td>\n",
              "      <td>2</td>\n",
              "      <td>2</td>\n",
              "    </tr>\n",
              "    <tr>\n",
              "      <th>NewJeans</th>\n",
              "      <td>2</td>\n",
              "      <td>2</td>\n",
              "      <td>2</td>\n",
              "    </tr>\n",
              "  </tbody>\n",
              "</table>\n",
              "<p>15 rows × 3 columns</p>\n",
              "</div>"
            ],
            "text/plain": [
              "                  track_name  streams  uri\n",
              "artist_names                              \n",
              "SZA                       11       11   11\n",
              "Taylor Swift               8        8    8\n",
              "Morgan Wallen              6        6    6\n",
              "Drake, 21 Savage           5        5    5\n",
              "Zach Bryan                 4        4    4\n",
              "...                      ...      ...  ...\n",
              "Joji                       2        2    2\n",
              "Eminem                     2        2    2\n",
              "Kanye West                 2        2    2\n",
              "Childish Gambino           2        2    2\n",
              "NewJeans                   2        2    2\n",
              "\n",
              "[15 rows x 3 columns]"
            ]
          },
          "execution_count": 21,
          "metadata": {},
          "output_type": "execute_result"
        }
      ],
      "source": [
        "top_15_artists = (songs_per_artist\n",
        "                  .sort_values('streams', ascending=False)\n",
        "                  .take(np.arange(15)))\n",
        "top_15_artists"
      ]
    },
    {
      "cell_type": "markdown",
      "metadata": {
        "id": "c_aMSzua2PBP"
      },
      "source": [
        "Usando `.assign` e `.drop`, criaremos uma coluna chamada `'count'` que contém as mesmas informações que as outras 3 colunas contêm, e então `.get` apenas essa coluna (ou equivalentemente, eliminaremos o outras 3 colunas)."
      ]
    },
    {
      "cell_type": "code",
      "execution_count": null,
      "metadata": {
        "execution": {
          "iopub.execute_input": "2024-04-09T15:24:05.875589Z",
          "iopub.status.busy": "2024-04-09T15:24:05.875105Z",
          "iopub.status.idle": "2024-04-09T15:24:05.883551Z",
          "shell.execute_reply": "2024-04-09T15:24:05.882849Z"
        },
        "id": "Bs2dp0ZE2PBP",
        "outputId": "d4c153d9-b90c-4159-b649-1fa78ed2ed71"
      },
      "outputs": [
        {
          "data": {
            "text/html": [
              "<div>\n",
              "<style scoped>\n",
              "    .dataframe tbody tr th:only-of-type {\n",
              "        vertical-align: middle;\n",
              "    }\n",
              "\n",
              "    .dataframe tbody tr th {\n",
              "        vertical-align: top;\n",
              "    }\n",
              "\n",
              "    .dataframe thead th {\n",
              "        text-align: right;\n",
              "    }\n",
              "</style>\n",
              "<table border=\"1\" class=\"dataframe\">\n",
              "  <thead>\n",
              "    <tr style=\"text-align: right;\">\n",
              "      <th></th>\n",
              "      <th>count</th>\n",
              "    </tr>\n",
              "    <tr>\n",
              "      <th>artist_names</th>\n",
              "      <th></th>\n",
              "    </tr>\n",
              "  </thead>\n",
              "  <tbody>\n",
              "    <tr>\n",
              "      <th>SZA</th>\n",
              "      <td>11</td>\n",
              "    </tr>\n",
              "    <tr>\n",
              "      <th>Taylor Swift</th>\n",
              "      <td>8</td>\n",
              "    </tr>\n",
              "    <tr>\n",
              "      <th>Morgan Wallen</th>\n",
              "      <td>6</td>\n",
              "    </tr>\n",
              "    <tr>\n",
              "      <th>Drake, 21 Savage</th>\n",
              "      <td>5</td>\n",
              "    </tr>\n",
              "    <tr>\n",
              "      <th>Zach Bryan</th>\n",
              "      <td>4</td>\n",
              "    </tr>\n",
              "    <tr>\n",
              "      <th>...</th>\n",
              "      <td>...</td>\n",
              "    </tr>\n",
              "    <tr>\n",
              "      <th>Joji</th>\n",
              "      <td>2</td>\n",
              "    </tr>\n",
              "    <tr>\n",
              "      <th>Eminem</th>\n",
              "      <td>2</td>\n",
              "    </tr>\n",
              "    <tr>\n",
              "      <th>Kanye West</th>\n",
              "      <td>2</td>\n",
              "    </tr>\n",
              "    <tr>\n",
              "      <th>Childish Gambino</th>\n",
              "      <td>2</td>\n",
              "    </tr>\n",
              "    <tr>\n",
              "      <th>NewJeans</th>\n",
              "      <td>2</td>\n",
              "    </tr>\n",
              "  </tbody>\n",
              "</table>\n",
              "<p>15 rows × 1 columns</p>\n",
              "</div>"
            ],
            "text/plain": [
              "                  count\n",
              "artist_names           \n",
              "SZA                  11\n",
              "Taylor Swift          8\n",
              "Morgan Wallen         6\n",
              "Drake, 21 Savage      5\n",
              "Zach Bryan            4\n",
              "...                 ...\n",
              "Joji                  2\n",
              "Eminem                2\n",
              "Kanye West            2\n",
              "Childish Gambino      2\n",
              "NewJeans              2\n",
              "\n",
              "[15 rows x 1 columns]"
            ]
          },
          "execution_count": 22,
          "metadata": {},
          "output_type": "execute_result"
        }
      ],
      "source": [
        "# If we give .get a list, it will return a DataFrame instead of a Series!\n",
        "top_15_artists = (top_15_artists\n",
        "                  .assign(count=top_15_artists.get('streams'))\n",
        "                  .get(['count']))\n",
        "top_15_artists"
      ]
    },
    {
      "cell_type": "markdown",
      "metadata": {
        "id": "ToW1ImI72PBP"
      },
      "source": [
        "Antes de chamar `.plot(kind='barh', y='count')`, classificaremos `top_15_artists` por `'count'` em ordem **crescente**. Isso ocorre porque, estranhamente, o Python inverte a ordem das linhas ao criar barras em gráficos de barras horizontais."
      ]
    },
    {
      "cell_type": "code",
      "execution_count": null,
      "metadata": {
        "execution": {
          "iopub.execute_input": "2024-04-09T15:24:05.886144Z",
          "iopub.status.busy": "2024-04-09T15:24:05.885764Z",
          "iopub.status.idle": "2024-04-09T15:24:06.096986Z",
          "shell.execute_reply": "2024-04-09T15:24:06.096262Z"
        },
        "id": "EjnYmWdg2PBQ",
        "outputId": "625126e5-e907-45e0-9bb7-798ca6400b36"
      },
      "outputs": [
        {
          "data": {
            "image/png": "[encoded data removed]",
            "text/plain": [
              "<Figure size 640x480 with 1 Axes>"
            ]
          },
          "metadata": {},
          "output_type": "display_data"
        }
      ],
      "source": [
        "top_15_artists.sort_values(by='count').plot(kind='barh', y='count');"
      ]
    },
    {
      "cell_type": "markdown",
      "metadata": {
        "id": "BF9DdqHr2PBQ"
      },
      "source": [
        "### Gráficos de barras verticais\n",
        "\n",
        "Para criar um gráfico de barras verticais, use `kind='bar'` em vez de `kind='barh'`. No entanto, geralmente são mais difíceis de ler."
      ]
    },
    {
      "cell_type": "code",
      "execution_count": null,
      "metadata": {
        "execution": {
          "iopub.execute_input": "2024-04-09T15:24:06.099575Z",
          "iopub.status.busy": "2024-04-09T15:24:06.099340Z",
          "iopub.status.idle": "2024-04-09T15:24:06.307321Z",
          "shell.execute_reply": "2024-04-09T15:24:06.306437Z"
        },
        "id": "7CD01Ltm2PBQ",
        "outputId": "cb6e12d4-44e3-4959-9559-189b5ad69299"
      },
      "outputs": [
        {
          "data": {
            "image/png": "[encoded data removed]",
            "text/plain": [
              "<Figure size 640x480 with 1 Axes>"
            ]
          },
          "metadata": {},
          "output_type": "display_data"
        }
      ],
      "source": [
        "top_15_artists.plot(kind='bar', y='count');"
      ]
    },
    {
      "cell_type": "markdown",
      "metadata": {
        "id": "e5iZieYF2PBQ"
      },
      "source": [
        "### À parte: quantas transmissões as músicas do The Weeknd na parada receberam?"
      ]
    },
    {
      "cell_type": "code",
      "execution_count": null,
      "metadata": {
        "execution": {
          "iopub.execute_input": "2024-04-09T15:24:06.310525Z",
          "iopub.status.busy": "2024-04-09T15:24:06.310320Z",
          "iopub.status.idle": "2024-04-09T15:24:06.476765Z",
          "shell.execute_reply": "2024-04-09T15:24:06.476066Z"
        },
        "id": "LUkJkozO2PBR",
        "outputId": "28155319-b1ea-4216-9823-9429f80a14bf"
      },
      "outputs": [
        {
          "data": {
            "image/png": "[encoded data removed]",
            "text/plain": [
              "<Figure size 640x480 with 1 Axes>"
            ]
          },
          "metadata": {},
          "output_type": "display_data"
        }
      ],
      "source": [
        "(charts\n",
        " [charts.get('artist_names') == 'The Weeknd']\n",
        " .sort_values('streams')\n",
        " .plot(kind='barh', x='track_name', y='streams')\n",
        ");"
      ]
    },
    {
      "cell_type": "markdown",
      "metadata": {
        "id": "VMEMGbUM2PBR"
      },
      "source": [
        "Parece que estamos perdendo algumas músicas populares..."
      ]
    },
    {
      "cell_type": "markdown",
      "metadata": {
        "id": "EsveWy462PBR"
      },
      "source": [
        "### Como incluímos músicas em destaque também?\n",
        "\n",
        "Resposta: Usando `.str.contains`."
      ]
    },
    {
      "cell_type": "code",
      "execution_count": null,
      "metadata": {
        "execution": {
          "iopub.execute_input": "2024-04-09T15:24:06.479469Z",
          "iopub.status.busy": "2024-04-09T15:24:06.479136Z",
          "iopub.status.idle": "2024-04-09T15:24:06.487044Z",
          "shell.execute_reply": "2024-04-09T15:24:06.486420Z"
        },
        "id": "z5-S1i2P2PBR",
        "outputId": "31d6ea0a-3ecc-43d6-e741-994a4c379697"
      },
      "outputs": [
        {
          "data": {
            "text/html": [
              "<div>\n",
              "<style scoped>\n",
              "    .dataframe tbody tr th:only-of-type {\n",
              "        vertical-align: middle;\n",
              "    }\n",
              "\n",
              "    .dataframe tbody tr th {\n",
              "        vertical-align: top;\n",
              "    }\n",
              "\n",
              "    .dataframe thead th {\n",
              "        text-align: right;\n",
              "    }\n",
              "</style>\n",
              "<table border=\"1\" class=\"dataframe\">\n",
              "  <thead>\n",
              "    <tr style=\"text-align: right;\">\n",
              "      <th></th>\n",
              "      <th>track_name</th>\n",
              "      <th>artist_names</th>\n",
              "      <th>streams</th>\n",
              "      <th>uri</th>\n",
              "    </tr>\n",
              "    <tr>\n",
              "      <th>rank</th>\n",
              "      <th></th>\n",
              "      <th></th>\n",
              "      <th></th>\n",
              "      <th></th>\n",
              "    </tr>\n",
              "  </thead>\n",
              "  <tbody>\n",
              "    <tr>\n",
              "      <th>3</th>\n",
              "      <td>Creepin' (with The Weeknd &amp; 21 Savage)</td>\n",
              "      <td>Metro Boomin, The Weeknd, 21 Savage</td>\n",
              "      <td>1337320</td>\n",
              "      <td>spotify:track:2dHHgzDwk4BJdRwy9uXhTO</td>\n",
              "    </tr>\n",
              "    <tr>\n",
              "      <th>13</th>\n",
              "      <td>Die For You</td>\n",
              "      <td>The Weeknd</td>\n",
              "      <td>794924</td>\n",
              "      <td>spotify:track:2LBqCSwhJGcFQeTHMVGwy3</td>\n",
              "    </tr>\n",
              "    <tr>\n",
              "      <th>76</th>\n",
              "      <td>Stargirl Interlude</td>\n",
              "      <td>The Weeknd, Lana Del Rey</td>\n",
              "      <td>372624</td>\n",
              "      <td>spotify:track:5gDWsRxpJ2lZAffh5p7K0w</td>\n",
              "    </tr>\n",
              "    <tr>\n",
              "      <th>78</th>\n",
              "      <td>Starboy</td>\n",
              "      <td>The Weeknd, Daft Punk</td>\n",
              "      <td>361999</td>\n",
              "      <td>spotify:track:7MXVkk9YMctZqd1Srtv4MB</td>\n",
              "    </tr>\n",
              "    <tr>\n",
              "      <th>102</th>\n",
              "      <td>The Hills</td>\n",
              "      <td>The Weeknd</td>\n",
              "      <td>334354</td>\n",
              "      <td>spotify:track:7fBv7CLKzipRk6EC6TWHOB</td>\n",
              "    </tr>\n",
              "    <tr>\n",
              "      <th>110</th>\n",
              "      <td>I Was Never There</td>\n",
              "      <td>The Weeknd, Gesaffelstein</td>\n",
              "      <td>328724</td>\n",
              "      <td>spotify:track:1cKHdTo9u0ZymJdPGSh6nq</td>\n",
              "    </tr>\n",
              "    <tr>\n",
              "      <th>128</th>\n",
              "      <td>Blinding Lights</td>\n",
              "      <td>The Weeknd</td>\n",
              "      <td>311176</td>\n",
              "      <td>spotify:track:0VjIjW4GlUZAMYd2vXMi3b</td>\n",
              "    </tr>\n",
              "    <tr>\n",
              "      <th>168</th>\n",
              "      <td>Call Out My Name</td>\n",
              "      <td>The Weeknd</td>\n",
              "      <td>281141</td>\n",
              "      <td>spotify:track:09mEdoA6zrmBPgTEN5qXmN</td>\n",
              "    </tr>\n",
              "  </tbody>\n",
              "</table>\n",
              "</div>"
            ],
            "text/plain": [
              "                                  track_name  \\\n",
              "rank                                           \n",
              "3     Creepin' (with The Weeknd & 21 Savage)   \n",
              "13                               Die For You   \n",
              "76                        Stargirl Interlude   \n",
              "78                                   Starboy   \n",
              "102                                The Hills   \n",
              "110                        I Was Never There   \n",
              "128                          Blinding Lights   \n",
              "168                         Call Out My Name   \n",
              "\n",
              "                             artist_names  streams  \\\n",
              "rank                                                 \n",
              "3     Metro Boomin, The Weeknd, 21 Savage  1337320   \n",
              "13                             The Weeknd   794924   \n",
              "76               The Weeknd, Lana Del Rey   372624   \n",
              "78                  The Weeknd, Daft Punk   361999   \n",
              "102                            The Weeknd   334354   \n",
              "110             The Weeknd, Gesaffelstein   328724   \n",
              "128                            The Weeknd   311176   \n",
              "168                            The Weeknd   281141   \n",
              "\n",
              "                                       uri  \n",
              "rank                                        \n",
              "3     spotify:track:2dHHgzDwk4BJdRwy9uXhTO  \n",
              "13    spotify:track:2LBqCSwhJGcFQeTHMVGwy3  \n",
              "76    spotify:track:5gDWsRxpJ2lZAffh5p7K0w  \n",
              "78    spotify:track:7MXVkk9YMctZqd1Srtv4MB  \n",
              "102   spotify:track:7fBv7CLKzipRk6EC6TWHOB  \n",
              "110   spotify:track:1cKHdTo9u0ZymJdPGSh6nq  \n",
              "128   spotify:track:0VjIjW4GlUZAMYd2vXMi3b  \n",
              "168   spotify:track:09mEdoA6zrmBPgTEN5qXmN  "
            ]
          },
          "execution_count": 26,
          "metadata": {},
          "output_type": "execute_result"
        }
      ],
      "source": [
        "weeknd = charts[charts.get('artist_names').str.contains('The Weeknd')]\n",
        "weeknd"
      ]
    },
    {
      "cell_type": "code",
      "execution_count": null,
      "metadata": {
        "execution": {
          "iopub.execute_input": "2024-04-09T15:24:06.489943Z",
          "iopub.status.busy": "2024-04-09T15:24:06.489722Z",
          "iopub.status.idle": "2024-04-09T15:24:06.724198Z",
          "shell.execute_reply": "2024-04-09T15:24:06.723505Z"
        },
        "id": "IAM-Th-d2PBS",
        "outputId": "ca97ba75-4230-4d18-ec8a-c74d0909afc5"
      },
      "outputs": [
        {
          "data": {
            "image/png": "[encoded data removed]",
            "text/plain": [
              "<Figure size 640x480 with 1 Axes>"
            ]
          },
          "metadata": {},
          "output_type": "display_data"
        }
      ],
      "source": [
        "weeknd.sort_values('streams').plot(kind='barh', x='track_name', y='streams');"
      ]
    },
    {
      "cell_type": "markdown",
      "metadata": {
        "id": "we_qN_PV2PBS"
      },
      "source": [
        "## Demonstração divertida 🎵"
      ]
    },
    {
      "cell_type": "code",
      "execution_count": null,
      "metadata": {
        "execution": {
          "iopub.execute_input": "2024-04-09T15:24:06.727182Z",
          "iopub.status.busy": "2024-04-09T15:24:06.726930Z",
          "iopub.status.idle": "2024-04-09T15:24:06.730529Z",
          "shell.execute_reply": "2024-04-09T15:24:06.729822Z"
        },
        "id": "G11Wih_b2PBS"
      },
      "outputs": [],
      "source": [
        "# Run this cell, don't worry about what it does.\n",
        "def show_spotify(uri):\n",
        "    code = uri[uri.rfind(':')+1:]\n",
        "    src = f\"https://open.spotify.com/embed/track/{code}\"\n",
        "    width = 400\n",
        "    height = 75\n",
        "    display(IFrame(src, width, height))"
      ]
    },
    {
      "cell_type": "markdown",
      "metadata": {
        "id": "Z_JqmKCI2PBS"
      },
      "source": [
        "#### Vamos encontrar o URI de uma música que nos interessa."
      ]
    },
    {
      "cell_type": "code",
      "execution_count": null,
      "metadata": {
        "execution": {
          "iopub.execute_input": "2024-04-09T15:24:06.733461Z",
          "iopub.status.busy": "2024-04-09T15:24:06.733216Z",
          "iopub.status.idle": "2024-04-09T15:24:06.742078Z",
          "shell.execute_reply": "2024-04-09T15:24:06.741389Z"
        },
        "id": "5YWoQuYi2PBT",
        "outputId": "56a4c5cb-7556-40c8-8cc0-3866435eb2c8"
      },
      "outputs": [
        {
          "data": {
            "text/html": [
              "<div>\n",
              "<style scoped>\n",
              "    .dataframe tbody tr th:only-of-type {\n",
              "        vertical-align: middle;\n",
              "    }\n",
              "\n",
              "    .dataframe tbody tr th {\n",
              "        vertical-align: top;\n",
              "    }\n",
              "\n",
              "    .dataframe thead th {\n",
              "        text-align: right;\n",
              "    }\n",
              "</style>\n",
              "<table border=\"1\" class=\"dataframe\">\n",
              "  <thead>\n",
              "    <tr style=\"text-align: right;\">\n",
              "      <th></th>\n",
              "      <th>track_name</th>\n",
              "      <th>artist_names</th>\n",
              "      <th>streams</th>\n",
              "      <th>uri</th>\n",
              "    </tr>\n",
              "    <tr>\n",
              "      <th>rank</th>\n",
              "      <th></th>\n",
              "      <th></th>\n",
              "      <th></th>\n",
              "      <th></th>\n",
              "    </tr>\n",
              "  </thead>\n",
              "  <tbody>\n",
              "    <tr>\n",
              "      <th>1</th>\n",
              "      <td>Flowers</td>\n",
              "      <td>Miley Cyrus</td>\n",
              "      <td>3356361</td>\n",
              "      <td>spotify:track:0yLdNVWF3Srea0uzk55zFn</td>\n",
              "    </tr>\n",
              "    <tr>\n",
              "      <th>2</th>\n",
              "      <td>Kill Bill</td>\n",
              "      <td>SZA</td>\n",
              "      <td>2479445</td>\n",
              "      <td>spotify:track:1Qrg8KqiBpW07V7PNxwwwL</td>\n",
              "    </tr>\n",
              "    <tr>\n",
              "      <th>3</th>\n",
              "      <td>Creepin' (with The Weeknd &amp; 21 Savage)</td>\n",
              "      <td>Metro Boomin, The Weeknd, 21 Savage</td>\n",
              "      <td>1337320</td>\n",
              "      <td>spotify:track:2dHHgzDwk4BJdRwy9uXhTO</td>\n",
              "    </tr>\n",
              "    <tr>\n",
              "      <th>4</th>\n",
              "      <td>Superhero (Heroes &amp; Villains) [with Future &amp; C...</td>\n",
              "      <td>Metro Boomin, Future, Chris Brown</td>\n",
              "      <td>1235285</td>\n",
              "      <td>spotify:track:0vjeOZ3Ft5jvAi9SBFJm1j</td>\n",
              "    </tr>\n",
              "    <tr>\n",
              "      <th>5</th>\n",
              "      <td>Rich Flex</td>\n",
              "      <td>Drake, 21 Savage</td>\n",
              "      <td>1109704</td>\n",
              "      <td>spotify:track:1bDbXMyjaUIooNwFE9wn0N</td>\n",
              "    </tr>\n",
              "    <tr>\n",
              "      <th>...</th>\n",
              "      <td>...</td>\n",
              "      <td>...</td>\n",
              "      <td>...</td>\n",
              "      <td>...</td>\n",
              "    </tr>\n",
              "    <tr>\n",
              "      <th>196</th>\n",
              "      <td>Burn, Burn, Burn</td>\n",
              "      <td>Zach Bryan</td>\n",
              "      <td>267772</td>\n",
              "      <td>spotify:track:5jfhLCSIFUO4ndzNRh4w4G</td>\n",
              "    </tr>\n",
              "    <tr>\n",
              "      <th>197</th>\n",
              "      <td>LET GO</td>\n",
              "      <td>Central Cee</td>\n",
              "      <td>267401</td>\n",
              "      <td>spotify:track:3zkyus0njMCL6phZmNNEeN</td>\n",
              "    </tr>\n",
              "    <tr>\n",
              "      <th>198</th>\n",
              "      <td>Major Distribution</td>\n",
              "      <td>Drake, 21 Savage</td>\n",
              "      <td>266986</td>\n",
              "      <td>spotify:track:46s57QULU02Voy0Kup6UEb</td>\n",
              "    </tr>\n",
              "    <tr>\n",
              "      <th>199</th>\n",
              "      <td>Sun to Me</td>\n",
              "      <td>Zach Bryan</td>\n",
              "      <td>266968</td>\n",
              "      <td>spotify:track:1SjsVdSXpwm1kTdYEHoPIT</td>\n",
              "    </tr>\n",
              "    <tr>\n",
              "      <th>200</th>\n",
              "      <td>The Real Slim Shady</td>\n",
              "      <td>Eminem</td>\n",
              "      <td>266698</td>\n",
              "      <td>spotify:track:3yfqSUWxFvZELEM4PmlwIR</td>\n",
              "    </tr>\n",
              "  </tbody>\n",
              "</table>\n",
              "<p>200 rows × 4 columns</p>\n",
              "</div>"
            ],
            "text/plain": [
              "                                             track_name  \\\n",
              "rank                                                      \n",
              "1                                               Flowers   \n",
              "2                                             Kill Bill   \n",
              "3                Creepin' (with The Weeknd & 21 Savage)   \n",
              "4     Superhero (Heroes & Villains) [with Future & C...   \n",
              "5                                             Rich Flex   \n",
              "...                                                 ...   \n",
              "196                                    Burn, Burn, Burn   \n",
              "197                                              LET GO   \n",
              "198                                  Major Distribution   \n",
              "199                                           Sun to Me   \n",
              "200                                 The Real Slim Shady   \n",
              "\n",
              "                             artist_names  streams  \\\n",
              "rank                                                 \n",
              "1                             Miley Cyrus  3356361   \n",
              "2                                     SZA  2479445   \n",
              "3     Metro Boomin, The Weeknd, 21 Savage  1337320   \n",
              "4       Metro Boomin, Future, Chris Brown  1235285   \n",
              "5                        Drake, 21 Savage  1109704   \n",
              "...                                   ...      ...   \n",
              "196                            Zach Bryan   267772   \n",
              "197                           Central Cee   267401   \n",
              "198                      Drake, 21 Savage   266986   \n",
              "199                            Zach Bryan   266968   \n",
              "200                                Eminem   266698   \n",
              "\n",
              "                                       uri  \n",
              "rank                                        \n",
              "1     spotify:track:0yLdNVWF3Srea0uzk55zFn  \n",
              "2     spotify:track:1Qrg8KqiBpW07V7PNxwwwL  \n",
              "3     spotify:track:2dHHgzDwk4BJdRwy9uXhTO  \n",
              "4     spotify:track:0vjeOZ3Ft5jvAi9SBFJm1j  \n",
              "5     spotify:track:1bDbXMyjaUIooNwFE9wn0N  \n",
              "...                                    ...  \n",
              "196   spotify:track:5jfhLCSIFUO4ndzNRh4w4G  \n",
              "197   spotify:track:3zkyus0njMCL6phZmNNEeN  \n",
              "198   spotify:track:46s57QULU02Voy0Kup6UEb  \n",
              "199   spotify:track:1SjsVdSXpwm1kTdYEHoPIT  \n",
              "200   spotify:track:3yfqSUWxFvZELEM4PmlwIR  \n",
              "\n",
              "[200 rows x 4 columns]"
            ]
          },
          "execution_count": 29,
          "metadata": {},
          "output_type": "execute_result"
        }
      ],
      "source": [
        "charts"
      ]
    },
    {
      "cell_type": "code",
      "execution_count": null,
      "metadata": {
        "execution": {
          "iopub.execute_input": "2024-04-09T15:24:06.744957Z",
          "iopub.status.busy": "2024-04-09T15:24:06.744666Z",
          "iopub.status.idle": "2024-04-09T15:24:06.747793Z",
          "shell.execute_reply": "2024-04-09T15:24:06.747139Z"
        },
        "id": "h6EtfhSO2PBT"
      },
      "outputs": [],
      "source": [
        "favorite_song = 'Bejeweled'"
      ]
    },
    {
      "cell_type": "code",
      "execution_count": null,
      "metadata": {
        "execution": {
          "iopub.execute_input": "2024-04-09T15:24:06.750865Z",
          "iopub.status.busy": "2024-04-09T15:24:06.750605Z",
          "iopub.status.idle": "2024-04-09T15:24:06.756841Z",
          "shell.execute_reply": "2024-04-09T15:24:06.756031Z"
        },
        "id": "suZ_ksPJ2PBT",
        "outputId": "6db3cef7-e48e-43c1-cd99-3fc89b02a865"
      },
      "outputs": [
        {
          "data": {
            "text/plain": [
              "'spotify:track:3qoftcUZaUOncvIYjFSPdE'"
            ]
          },
          "execution_count": 31,
          "metadata": {},
          "output_type": "execute_result"
        }
      ],
      "source": [
        "song_uri = (charts\n",
        "            [charts.get('track_name') == favorite_song]\n",
        "            .get('uri')\n",
        "            .iloc[0])\n",
        "song_uri"
      ]
    },
    {
      "cell_type": "markdown",
      "metadata": {
        "id": "OAOTuAng2PBU"
      },
      "source": [
        "Veja o que acontece! 🎶"
      ]
    },
    {
      "cell_type": "code",
      "execution_count": null,
      "metadata": {
        "execution": {
          "iopub.execute_input": "2024-04-09T15:24:06.759387Z",
          "iopub.status.busy": "2024-04-09T15:24:06.759137Z",
          "iopub.status.idle": "2024-04-09T15:24:06.763276Z",
          "shell.execute_reply": "2024-04-09T15:24:06.762601Z"
        },
        "id": "Mh-CMlOU2PBU",
        "outputId": "29a9679e-bcdd-4233-8cdb-6552f3170cfe"
      },
      "outputs": [
        {
          "data": {
            "text/html": [
              "\n",
              "        <iframe\n",
              "            width=\"400\"\n",
              "            height=\"75\"\n",
              "            src=\"https://open.spotify.com/embed/track/3qoftcUZaUOncvIYjFSPdE\"\n",
              "            frameborder=\"0\"\n",
              "            allowfullscreen\n",
              "            \n",
              "        ></iframe>\n",
              "        "
            ],
            "text/plain": [
              "<IPython.lib.display.IFrame at 0x7fa836a9ce50>"
            ]
          },
          "metadata": {},
          "output_type": "display_data"
        }
      ],
      "source": [
        "show_spotify(song_uri)"
      ]
    },
    {
      "cell_type": "markdown",
      "metadata": {
        "id": "j4D1_ml42PBU"
      },
      "source": [
        "Experimente você mesmo!"
      ]
    },
    {
      "cell_type": "markdown",
      "metadata": {
        "id": "JjnIX6WE2PBV"
      },
      "source": [
        "### Visualizações ruins\n",
        "\n",
        "- Conforme mencionado anteriormente, as visualizações nos permitem identificar facilmente tendências e comunicar nossos resultados a outras pessoas.\n",
        "- Algumas visualizações tornam mais difícil ver a tendência nos dados, ao:"
      ]
    },
    {
      "cell_type": "markdown",
      "metadata": {
        "id": "KzoVFRaH2PBV"
      },
      "source": [
        "- Adicionando \"[chart junk](https://eagereyes.org/criticism/chart-junk-considered-useful-after-all).\"\n",
        "\n",
        "![](https://raw.githubusercontent.com/flaviovdf/fcd/master/assets/07-DataViz/images/usefuljunk-monster.jpg)"
      ]
    },
    {
      "cell_type": "markdown",
      "metadata": {
        "id": "WGrKwNWL2PBW"
      },
      "source": [
        "- Usando eixos e tamanhos enganosos.\n",
        "\n",
        "![](https://raw.githubusercontent.com/flaviovdf/fcd/master/assets/07-DataViz/images/average_height.png)"
      ]
    },
    {
      "cell_type": "markdown",
      "metadata": {
        "id": "NmE3YcSC2PBZ"
      },
      "source": [
        "## Resumo"
      ]
    },
    {
      "cell_type": "markdown",
      "metadata": {
        "id": "XRJYVJBT2PBc"
      },
      "source": [
        "### Resumo\n",
        "\n",
        "- As visualizações facilitam a extração de padrões de conjuntos de dados.\n",
        "- Existem dois tipos principais de variáveis: categóricas e numéricas.\n",
        "- Os tipos de variáveis ​​que estamos visualizando informam nossa escolha de qual tipo de visualização usar.\n",
        "- Hoje, analisamos gráficos de dispersão, gráficos de linhas e gráficos de barras.\n",
        "- **Próxima vez:** Histogramas e gráficos sobrepostos."
      ]
    }
  ],
  "metadata": {
    "kernelspec": {
      "display_name": "Python 3 (ipykernel)",
      "language": "python",
      "name": "python3"
    },
    "language_info": {
      "codemirror_mode": {
        "name": "ipython",
        "version": 3
      },
      "file_extension": ".py",
      "mimetype": "text/x-python",
      "name": "python",
      "nbconvert_exporter": "python",
      "pygments_lexer": "ipython3",
      "version": "3.11.2"
    },
    "livereveal": {
      "scroll": true,
      "transition": "none"
    },
    "rise": {
      "enable_chalkboard": true
    },
    "colab": {
      "provenance": []
    }
  },
  "nbformat": 4,
  "nbformat_minor": 0
}